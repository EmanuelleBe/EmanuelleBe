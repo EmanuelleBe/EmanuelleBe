{
  "nbformat": 4,
  "nbformat_minor": 0,
  "metadata": {
    "colab": {
      "provenance": [],
      "authorship_tag": "ABX9TyPEfLhtudN7JlZGndEXetcz",
      "include_colab_link": true
    },
    "kernelspec": {
      "name": "python3",
      "display_name": "Python 3"
    },
    "language_info": {
      "name": "python"
    }
  },
  "cells": [
    {
      "cell_type": "markdown",
      "metadata": {
        "id": "view-in-github",
        "colab_type": "text"
      },
      "source": [
        "<a href=\"https://colab.research.google.com/github/EmanuelleBe/EmanuelleBe/blob/main/introdu_o_python_tera.ipynb\" target=\"_parent\"><img src=\"https://colab.research.google.com/assets/colab-badge.svg\" alt=\"Open In Colab\"/></a>"
      ]
    },
    {
      "cell_type": "code",
      "source": [
        "##INÍCIO DO CÓDIGO\n",
        "\n",
        "inventory = {'nome': 'Emanuelle',\n",
        "             'moedas':100,\n",
        "             'objetos':['espada de madeira','armadura de pano'],\n",
        "             'bolso' : '',\n",
        "             'mochila': {'tochas':2, 'cristais de rubi':1}}"
      ],
      "metadata": {
        "id": "O3gXLQqGKjyr"
      },
      "execution_count": null,
      "outputs": []
    }
  ]
}