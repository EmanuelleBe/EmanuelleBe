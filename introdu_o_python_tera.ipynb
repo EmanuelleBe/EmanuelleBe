{
  "nbformat": 4,
  "nbformat_minor": 0,
  "metadata": {
    "colab": {
      "provenance": [],
      "authorship_tag": "ABX9TyOlW5IXilbyaD3y/bOq8Rqs",
      "include_colab_link": true
    },
    "kernelspec": {
      "name": "python3",
      "display_name": "Python 3"
    },
    "language_info": {
      "name": "python"
    }
  },
  "cells": [
    {
      "cell_type": "markdown",
      "metadata": {
        "id": "view-in-github",
        "colab_type": "text"
      },
      "source": [
        "<a href=\"https://colab.research.google.com/github/EmanuelleBe/EmanuelleBe/blob/main/introdu_o_python_tera.ipynb\" target=\"_parent\"><img src=\"https://colab.research.google.com/assets/colab-badge.svg\" alt=\"Open In Colab\"/></a>"
      ]
    },
    {
      "cell_type": "code",
      "source": [
        "##INÍCIO DO CÓDIGO\n",
        "\n",
        "inventory = {'nome': 'seu nome',\n",
        "             'moedas':100,\n",
        "             'objetos':['espada de madeira','armadura de pano'],\n",
        "             'bolso' : '',\n",
        "             'mochila': {'tochas':2, 'cristais de rubi':1}}"
      ],
      "metadata": {
        "id": "O3gXLQqGKjyr"
      },
      "execution_count": 1,
      "outputs": []
    },
    {
      "cell_type": "markdown",
      "source": [
        "**Tarefa**\n",
        "\n",
        "Substitua o valor 'seu nome' pelo seu nome real."
      ],
      "metadata": {
        "id": "CVMMYmGSR0o6"
      }
    },
    {
      "cell_type": "code",
      "source": [
        "#comece seu código aqui (1 linha)\n",
        "\n",
        "inventory['nome'] = 'Emanuelle Bezerra'"
      ],
      "metadata": {
        "id": "dpzGAzPlRpOi"
      },
      "execution_count": 2,
      "outputs": []
    },
    {
      "cell_type": "code",
      "source": [
        "inventory"
      ],
      "metadata": {
        "id": "M1GwM5YqSVnx",
        "outputId": "fc79fe5e-6bf6-45e2-b38e-e1f67498d0d4",
        "colab": {
          "base_uri": "https://localhost:8080/"
        }
      },
      "execution_count": 3,
      "outputs": [
        {
          "output_type": "execute_result",
          "data": {
            "text/plain": [
              "{'nome': 'Emanuelle Bezerra',\n",
              " 'moedas': 100,\n",
              " 'objetos': ['espada de madeira', 'armadura de pano'],\n",
              " 'bolso': '',\n",
              " 'mochila': {'tochas': 2, 'cristais de rubi': 1}}"
            ]
          },
          "metadata": {},
          "execution_count": 3
        }
      ]
    },
    {
      "cell_type": "markdown",
      "source": [
        "\n",
        "**TAREFA**\n",
        "Some 1500 à chave 'moedas' de seu inventário"
      ],
      "metadata": {
        "id": "yEj4drfOSfUy"
      }
    },
    {
      "cell_type": "code",
      "source": [],
      "metadata": {
        "id": "i0984nq6Scb7"
      },
      "execution_count": null,
      "outputs": []
    }
  ]
}