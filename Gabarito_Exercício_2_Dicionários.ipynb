{
  "nbformat": 4,
  "nbformat_minor": 0,
  "metadata": {
    "colab": {
      "provenance": [],
      "include_colab_link": true
    },
    "kernelspec": {
      "name": "python3",
      "display_name": "Python 3"
    },
    "language_info": {
      "name": "python"
    }
  },
  "cells": [
    {
      "cell_type": "markdown",
      "metadata": {
        "id": "view-in-github",
        "colab_type": "text"
      },
      "source": [
        "<a href=\"https://colab.research.google.com/github/EmanuelleBe/EmanuelleBe/blob/main/Gabarito_Exerc%C3%ADcio_2_Dicion%C3%A1rios.ipynb\" target=\"_parent\"><img src=\"https://colab.research.google.com/assets/colab-badge.svg\" alt=\"Open In Colab\"/></a>"
      ]
    },
    {
      "cell_type": "markdown",
      "metadata": {
        "id": "tIw0UrYG2zi7"
      },
      "source": [
        "# Exercícios de Dicionário"
      ]
    },
    {
      "cell_type": "markdown",
      "metadata": {
        "id": "1pEtZSXU3Exa"
      },
      "source": [
        "## Criação de dicionários"
      ]
    },
    {
      "cell_type": "markdown",
      "metadata": {
        "id": "RNgB9cdH26Uo"
      },
      "source": [
        "### Exercício 1\n",
        "\n",
        "Crie um dicionário chamado `entretenimento` com três `chaves` (filmes, séries, livros) e três `valores` ('seu filme, sua série e seu livro favorito). Para a criação deste dicionário utilize a atribuição direta com as `{}`.\n",
        "\n",
        "Após a criação deste dicionário, imprima o valor associado a chave `'filmes'` utilizando a função print()."
      ]
    },
    {
      "cell_type": "code",
      "metadata": {
        "id": "Ul5WT6rB5rwg",
        "colab": {
          "base_uri": "https://localhost:8080/"
        },
        "outputId": "e1e84e11-36e1-4808-ba19-4affae954260"
      },
      "source": [
        "#\n",
        "entretenimento = {'filmes': 'Sociedade dos Poetas Mortos', 'séries': 'Breaking Bad', 'livros': 'A Menina que Roubava Livros'}\n",
        "print(entretenimento['filmes'])\n",
        "#"
      ],
      "execution_count": 2,
      "outputs": [
        {
          "output_type": "stream",
          "name": "stdout",
          "text": [
            "Sociedade dos Poetas Mortos\n"
          ]
        }
      ]
    },
    {
      "cell_type": "code",
      "metadata": {
        "id": "4-pTlxPH2uaJ"
      },
      "source": [
        "#EXEMPLO  { display-mode: \"form\" }\n",
        "entretenimento = {'filmes': 'Soul', 'séries': 'The Crown', 'livros': 'O Pequeno Príncipe'}\n",
        "\n",
        "print(entretenimento['filmes'])"
      ],
      "execution_count": null,
      "outputs": []
    },
    {
      "cell_type": "markdown",
      "metadata": {
        "id": "UDyAvJNc3CcW"
      },
      "source": [
        "### Exercício 2\n",
        "\n",
        "Crie o mesmo dicionário `entretenimento` do exercício anterior utilizando a função `dict()`.\n",
        "\n",
        "Após a criação deste dicionário, insira um novo par de `chave` e `valor` ('cantoras' e 'Taylor Swift', respectivamente). Imprima o resultado utilizando a função print()."
      ]
    },
    {
      "cell_type": "code",
      "metadata": {
        "id": "qzFGGUUD5y5O",
        "colab": {
          "base_uri": "https://localhost:8080/"
        },
        "outputId": "59728bb1-61f8-4f72-85fc-48ed04453fc6"
      },
      "source": [
        "#\n",
        "entretenimento = dict([('filmes', 'Sociedade dos Poetas Mortos'),\n",
        "                       ('series', 'Breaking Bad'),\n",
        "                       ('livros', 'A Menina que Roubava Livros')])\n",
        "\n",
        "entretenimento['cantoras'] = 'Nina Simone'\n",
        "\n",
        "print(entretenimento)\n",
        "#"
      ],
      "execution_count": 4,
      "outputs": [
        {
          "output_type": "stream",
          "name": "stdout",
          "text": [
            "{'filmes': 'Sociedade dos Poetas Mortos', 'series': 'Breaking Bad', 'livros': 'A Menina que Roubava Livros', 'cantoras': 'Nina Simone'}\n"
          ]
        }
      ]
    },
    {
      "cell_type": "code",
      "metadata": {
        "id": "ZBhn4PQo3JTW",
        "colab": {
          "base_uri": "https://localhost:8080/"
        },
        "outputId": "63f82611-0b9c-4ea9-97c6-2167b4c60d1b"
      },
      "source": [
        "#@title  { display-mode: \"form\" }\n",
        "entretenimento = dict([('filmes', 'Soul'),\n",
        "                       ('séries', 'The Crown'),\n",
        "                       ('livros', 'O Pequeno Príncipe')])\n",
        "\n",
        "entretenimento['cantoras'] = 'Taylor Swift'\n",
        "\n",
        "print(entretenimento)"
      ],
      "execution_count": 5,
      "outputs": [
        {
          "output_type": "stream",
          "name": "stdout",
          "text": [
            "{'filmes': 'Soul', 'séries': 'The Crown', 'livros': 'O Pequeno Príncipe', 'cantoras': 'Taylor Swift'}\n"
          ]
        }
      ]
    },
    {
      "cell_type": "markdown",
      "metadata": {
        "id": "NA1ZJaCa3KZT"
      },
      "source": [
        "## Acessando dados de um dicionário"
      ]
    },
    {
      "cell_type": "markdown",
      "metadata": {
        "id": "Cm3Lrh4k3N-M"
      },
      "source": [
        "### Exercício 3\n",
        "\n",
        "Utilizando o dicionário resultante do exercício 2, imprima com a função `print()` o `valor` associado a chave 'cantoras'. Para acessar o `valor` desta `chave`, utilize a função `get()`."
      ]
    },
    {
      "cell_type": "code",
      "metadata": {
        "id": "h158VoNM51WT",
        "colab": {
          "base_uri": "https://localhost:8080/"
        },
        "outputId": "e7b3644d-98f1-4086-e8bc-fc8fd6b99637"
      },
      "source": [
        "#\n",
        "entretenimento = {'filmes': 'Sociedade dos Poetas Mortos', 'series': 'Breaking Bad', 'livros': 'A Menina que Roubava Livros', 'cantoras': 'Nina Simone'}\n",
        "\n",
        "print(entretenimento.get('cantoras'))\n",
        "\n"
      ],
      "execution_count": 6,
      "outputs": [
        {
          "output_type": "stream",
          "name": "stdout",
          "text": [
            "Nina Simone\n"
          ]
        }
      ]
    },
    {
      "cell_type": "code",
      "metadata": {
        "id": "OOz1HI0w3NL4"
      },
      "source": [
        "#@title  { display-mode: \"form\" }\n",
        "entretenimento = {'filmes': 'Soul', 'séries': 'The Crown', 'livros': 'O Pequeno Príncipe', 'cantoras': 'Taylor Swift'}\n",
        "\n",
        "print(entretenimento.get('cantoras'))"
      ],
      "execution_count": null,
      "outputs": []
    },
    {
      "cell_type": "markdown",
      "metadata": {
        "id": "fo-IgtwTnhS0"
      },
      "source": [
        "## Remover e adicionar elementos a um dicionário"
      ]
    },
    {
      "cell_type": "markdown",
      "metadata": {
        "id": "xmWaKTT2nq8K"
      },
      "source": [
        "### Exercício 4\n",
        "\n",
        "Vamos exercitar a inserção e remoção de novos elementos de dicionários neste exercício. Vamos criar um novo dicionário seguindo os passos:\n",
        "\n",
        "1. inicialize uma variável chamada `entretenimento` como um dicionário vazio;\n",
        "2. insira três pares de `chave` e `valor`: ('filmes': 'Soul'), ('cantoras': 'Taylor Swift') e ('livros': 'O Pequeno Príncipe');\n",
        "3. imprima o valor do dicionário entretenimento;\n",
        "4. remova o a chave 'filmes' do dicionário;\n",
        "5. imprima novamente o valor do dicionário após a remoção.\n",
        "\n"
      ]
    },
    {
      "cell_type": "code",
      "metadata": {
        "id": "q4uFp7Uq54Nk",
        "colab": {
          "base_uri": "https://localhost:8080/"
        },
        "outputId": "c23a93d3-8672-4380-b22b-b411e1efadad"
      },
      "source": [
        "#\n",
        "entretenimento = {}\n",
        "\n",
        "entretenimento['filmes'] = 'Sociedade dos Poetas Mortos'\n",
        "entretenimento['cantoras'] = 'Nina Simone'\n",
        "entretenimento['livros'] = 'A Menina que Rouava Livros'\n",
        "\n",
        "print(entretenimento)\n",
        "del entretenimento['filmes']\n",
        "print(entretenimento)\n",
        "#\n"
      ],
      "execution_count": 7,
      "outputs": [
        {
          "output_type": "stream",
          "name": "stdout",
          "text": [
            "{'filmes': 'Sociedade dos Poetas Mortos', 'cantoras': 'Nina Simone', 'livros': 'A Menina que Rouava Livros'}\n",
            "{'cantoras': 'Nina Simone', 'livros': 'A Menina que Rouava Livros'}\n"
          ]
        }
      ]
    },
    {
      "cell_type": "code",
      "metadata": {
        "id": "YJu_p0iFnpN4"
      },
      "source": [
        "#@title  { display-mode: \"form\" }\n",
        "entretenimento = {}\n",
        "\n",
        "entretenimento['filmes'] = 'Soul'\n",
        "entretenimento['cantoras'] = 'Taylor Swift'\n",
        "entretenimento['livros'] = 'O Pequeno Príncipe'\n",
        "\n",
        "print(entretenimento)\n",
        "del entretenimento['filmes']\n",
        "print(entretenimento)"
      ],
      "execution_count": null,
      "outputs": []
    },
    {
      "cell_type": "markdown",
      "metadata": {
        "id": "WlstarZcnsNK"
      },
      "source": [
        "### Exercício 5\n",
        "\n",
        "Vamos criar um dicionário que se chama `filmes_por_genero`. Para criar este novo dicionário, utilize a função `dict()` e inicialize a variável `filmes_por_genero` com os seguintes pares:\n",
        "\n",
        "1.   'action': 'Mulan'\n",
        "2.   'romance': 'Clouds'\n",
        "3.   'disney': 'Rava and the Last Dragon'\n",
        "4.   'pixar': 'Soul'\n",
        "\n",
        "Imprima o resultado."
      ]
    },
    {
      "cell_type": "code",
      "metadata": {
        "id": "DPKUOunp56YQ",
        "colab": {
          "base_uri": "https://localhost:8080/"
        },
        "outputId": "5edeb74e-7194-4464-d340-7493c5062044"
      },
      "source": [
        "filmes_por_genero = dict([('action', 'Breaking Point'), ('romance', 'O Casamento do Meu Melhor Amigo'), ('disney', 'Mulan'), ('pixar', 'Toy Story')])\n",
        "print(filmes_por_genero)"
      ],
      "execution_count": 8,
      "outputs": [
        {
          "output_type": "stream",
          "name": "stdout",
          "text": [
            "{'action': 'Breaking Point', 'romance': 'O Casamento do Meu Melhor Amigo', 'disney': 'Mulan', 'pixar': 'Toy Story'}\n"
          ]
        }
      ]
    },
    {
      "cell_type": "code",
      "metadata": {
        "id": "HT-XA30ens_Y",
        "colab": {
          "base_uri": "https://localhost:8080/"
        },
        "outputId": "973686c9-cb43-47ad-a00e-46a776dfb810"
      },
      "source": [
        "#@title  { display-mode: \"form\" }\n",
        "filmes_por_genero = dict([('action', 'Mulan'), ('romance', 'Clouds'), ('disney', 'Rava and the Last Dragon'), ('pixar', 'Soul')])\n",
        "print(filmes_por_genero)"
      ],
      "execution_count": 9,
      "outputs": [
        {
          "output_type": "stream",
          "name": "stdout",
          "text": [
            "{'action': 'Mulan', 'romance': 'Clouds', 'disney': 'Rava and the Last Dragon', 'pixar': 'Soul'}\n"
          ]
        }
      ]
    },
    {
      "cell_type": "markdown",
      "metadata": {
        "id": "s3IBaDx-XY4w"
      },
      "source": [
        "## Verifique se uma chave pertence ao dicionário ou não"
      ]
    },
    {
      "cell_type": "markdown",
      "metadata": {
        "id": "otTjt2NDXf9k"
      },
      "source": [
        "### Exercício 6\n",
        "\n",
        "Utilizando o dicionário de filmes por gênero, verifique se a chave 'pixar' pertence ao dicionário. Se sim, adicione mais um par de `chave` e `valor` ao dicionário: ('musical': 'Over the Moon').\n",
        "\n",
        "O dicionário de filmes por gênero é composto dos seguintes pares de `chave` `valor`:\n",
        "\n",
        "1. 'action': 'Mulan'\n",
        "2. 'romance': 'Clouds'\n",
        "3. 'disney': 'Rava and the Last Dragon'\n",
        "4. 'pixar': 'Soul'\n",
        "\n",
        "Execute novamente o seu código inserindo o novo par somente se a chave 'pixar' **NÃO** existir no dicionário de filmes por gênero.\n"
      ]
    },
    {
      "cell_type": "code",
      "metadata": {
        "id": "GnV3bvaq58-r",
        "colab": {
          "base_uri": "https://localhost:8080/"
        },
        "outputId": "048e3e8c-c476-4c57-9a90-9d3dbe53c7d6"
      },
      "source": [
        "#\n",
        "filmes_por_genero = dict([('action', 'Breaking Point'), ('romance', 'O Casamento do Meu Melhor Amigo'), ('disney', 'Mulan'), ('pixar', 'Toy Story')])\n",
        "\n",
        "if 'pixar'in filmes_por_genero:\n",
        "  filmes_por_genero['musical'] = 'Mama Mia'\n",
        "\n",
        "  print(filmes_por_genero)"
      ],
      "execution_count": 12,
      "outputs": [
        {
          "output_type": "stream",
          "name": "stdout",
          "text": [
            "{'action': 'Breaking Point', 'romance': 'O Casamento do Meu Melhor Amigo', 'disney': 'Mulan', 'pixar': 'Toy Story', 'musical': 'Mama Mia'}\n"
          ]
        }
      ]
    },
    {
      "cell_type": "code",
      "metadata": {
        "id": "6o4c5ajoXgMN",
        "colab": {
          "base_uri": "https://localhost:8080/"
        },
        "outputId": "ec075269-89ff-4096-de13-82012abb4865"
      },
      "source": [
        "#@title  { display-mode: \"form\" }\n",
        "\n",
        "filmes_por_genero = dict([('action', 'Mulan'), ('romance', 'Clouds'), ('disney', 'Rava and the Last Dragon'), ('pixar', 'Soul')])\n",
        "\n",
        "if 'pixar' in filmes_por_genero:\n",
        "  filmes_por_genero['musical'] = 'Over the Moon'\n",
        "\n",
        "print(filmes_por_genero)"
      ],
      "execution_count": 10,
      "outputs": [
        {
          "output_type": "stream",
          "name": "stdout",
          "text": [
            "{'action': 'Mulan', 'romance': 'Clouds', 'disney': 'Rava and the Last Dragon', 'pixar': 'Soul', 'musical': 'Over the Moon'}\n"
          ]
        }
      ]
    },
    {
      "cell_type": "markdown",
      "metadata": {
        "id": "0hPMdJ3Cnwwd"
      },
      "source": [
        "## Diferentes tipos de valores em dicionários"
      ]
    },
    {
      "cell_type": "markdown",
      "metadata": {
        "id": "5LmEmk7Jn3D0"
      },
      "source": [
        "### Exercício 7\n",
        "\n",
        "Recordando que os dicionários podem também ter outros dicionários associados às chaves. Neste exercício você deve atribuir ao dicionário `entretenimento`, na chave 'filmes', o dicionário que criamos de `filmes_por_genero` nos exercícios anteriores. Nosso objetivo é possibilitar que os filmes possam ser categorizados também pelo seu gênero."
      ]
    },
    {
      "cell_type": "code",
      "metadata": {
        "id": "avt_2wWC5_o7",
        "colab": {
          "base_uri": "https://localhost:8080/"
        },
        "outputId": "34ab2ae2-b824-48cb-dfdd-ba6479b98fcf"
      },
      "source": [
        "#\n",
        "entretenimento = {'filmes': 'Sociedade dos Poetas Mortos', 'series': 'Breaking Bad', 'livros': 'A Menina que Roubava Livros', 'cantoras': 'Nina Simone'}\n",
        "\n",
        "filmes_por_genero = dict([('action', 'Breaking Point'), ('romance', 'O Casamento do Meu Melhor Amigo'), ('disney', 'Mulan'), ('pixar', 'Toy Story')])\n",
        "\n",
        "entretenimento['filmes'] = filmes_por_genero\n",
        "\n",
        "print(entretenimento['filmes'])\n",
        "print(entretenimento['filmes']['romance'])\n",
        "\n",
        "##\n"
      ],
      "execution_count": 13,
      "outputs": [
        {
          "output_type": "stream",
          "name": "stdout",
          "text": [
            "{'action': 'Breaking Point', 'romance': 'O Casamento do Meu Melhor Amigo', 'disney': 'Mulan', 'pixar': 'Toy Story'}\n",
            "O Casamento do Meu Melhor Amigo\n"
          ]
        }
      ]
    },
    {
      "cell_type": "code",
      "metadata": {
        "id": "2UsoHdExn2KM"
      },
      "source": [
        "#@title  { display-mode: \"form\" }\n",
        "entretenimento = {'filmes': 'Soul', 'séries': 'The Crown', 'livros': 'O Pequeno Príncipe', 'cantoras': 'Taylor Swift'}\n",
        "\n",
        "filmes_por_genero = dict([('action', 'Mulan'), ('romance', 'Clouds'), ('disney', 'Rava and the Last Dragon'), ('pixar', 'Soul')])\n",
        "\n",
        "entretenimento['filmes'] = filmes_por_genero\n",
        "\n",
        "print(entretenimento['filmes'])\n",
        "print(entretenimento['filmes']['romance'])"
      ],
      "execution_count": null,
      "outputs": []
    }
  ]
}