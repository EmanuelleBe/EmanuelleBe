{
 "cells": [
  {
   "cell_type": "markdown",
   "metadata": {},
   "source": [
    "<img src = \"imgs/Banner_News.jpg\"/>"
   ]
  },
  {
   "cell_type": "markdown",
   "metadata": {},
   "source": [
    "# Seja muito bem vindo, aventureiro(a)!\n",
    "\n",
    " Você acaba de iniciar sua jornada pelo mundo de Pyonia, terra de reis, rainhas, dragões e criaturas mágicas!\n",
    "\n",
    "Aqui em Pyonia as leis da física e a realidade não são lá tão importantes, tudo que importa é quão longe seu código em Python e imaginação podem chegar.\n",
    "\n",
    "\n",
    "Pois bem, aventureiro(a), é chegada a hora de apresentar sua **missão**!\n",
    "\n",
    "Você é um camponês nascido na plebe do reino Sul de Pyonia, toda riqueza que possui são **100 moedas** e **um cristal de rubi** deixados pelo seu falecido pai, mas sua pobre vida pacata toma um novo curso quando o rei promete riquezas com valor incanculável para aquele que derrotar o lendário Dragon Vermelho, Tiamat.\n",
    "\n",
    "### O jogo:\n",
    "\n",
    "No mundo de Pyonia é proibido alterar a célula do dicionário principal, utilize a sintaxe python e os métodos de manipulação de dicionários para adaptar o seu inventário à narrativa da história nas células posteriores.\n",
    "\n",
    "Se você é inexperiente com Python ou com o Jupyter notebook, é aconselhável que você insira seu código entre os comentários **#COMECE SEU CÓDIGO AQUI** e **#TERMINE SEU CÓDIGO AQUI** para uma melhor experiência com esse notebook.\n",
    "\n",
    "De qualquer forma, fique à vontade para abrir novas células e consultar o google, stackoverflow e afins caso não saiba resolver algo. A comunidade é nossa amiga!"
   ]
  },
  {
   "cell_type": "code",
   "execution_count": null,
   "metadata": {},
   "outputs": [],
   "source": [
    "# Rode essa célula para iniciar o Jogo\n",
    "# Se você alterar essa célula Pyonia irá se auto destruir\n",
    "inventory = {'nome':'seu nome aqui',\n",
    "             'moedas':100,\n",
    "             'objetos':['espada de madeira','armadura de pano'],\n",
    "             'bolso' :'',\n",
    "             'mochila': {'tochas':2, 'cristais de rubi':1}}"
   ]
  },
  {
   "cell_type": "markdown",
   "metadata": {},
   "source": [
    "## Parte 1"
   ]
  },
  {
   "cell_type": "markdown",
   "metadata": {},
   "source": [
    " Já sabemos que você é um(a) aventureiro(a), mas todo aventureiro(a) precisa de um nome.\n",
    "\n",
    "**Tarefa:**\n",
    "\n",
    "Substitua o valor 'seu nome aqui' pelo seu nome, real ou fictício."
   ]
  },
  {
   "cell_type": "code",
   "execution_count": null,
   "metadata": {},
   "outputs": [],
   "source": [
    "#COMECE SEU CÓDIGO AQUI (≅ 1 linha)\n",
    "\n",
    "inventory['nome'] = ''  # << Coloque seu nome entre as áspas em forma de string\n",
    "\n",
    "#TERMINE SEU CÓDIGO AQUI\n",
    "\n",
    "inventory"
   ]
  },
  {
   "cell_type": "markdown",
   "metadata": {},
   "source": [
    "## Parte 2"
   ]
  },
  {
   "cell_type": "markdown",
   "metadata": {},
   "source": [
    "Neste momento você encontra-se determinado para embarcar na sua missão e decide passar no centro da cidade de Pytown para comprar alguns itens que possam lhe ajudar.\n",
    "\n",
    "100 moedas não é lá muito dinheiro em Pyonia, então você decide trabalhar por um dia inteiro para um mercante da cidade de Pytown e ganha 1500 moedas!\n",
    "\n",
    "**Tarefa:**\n",
    "\n",
    "Some 1500 à chave \"moedas\" do seu inventário"
   ]
  },
  {
   "cell_type": "code",
   "execution_count": null,
   "metadata": {},
   "outputs": [],
   "source": [
    "#COMECE SEU CÓDIGO AQUI(≅ 1 linha)\n",
    "\n",
    "\n",
    "#TERMINE SEU CÓDIGO AQUI\n",
    "\n",
    "inventory"
   ]
  },
  {
   "cell_type": "markdown",
   "metadata": {},
   "source": [
    "--------------------------\n",
    "**Resultado esperado**: \n",
    "\n",
    "\n",
    "<table>\n",
    "    <tr> \n",
    "\n",
    " {'nome': 'Seu nome escolhido',            \n",
    " 'moedas': 1600,            \n",
    " 'objetos': ['espada de madeira', 'armadura de pano'],            \n",
    " 'bolso': '',            \n",
    " 'mochila': {'tochas': 2, 'cristais de rubi': 1}} \n",
    "    </tr>\n",
    "</table> \n",
    "\n"
   ]
  },
  {
   "cell_type": "markdown",
   "metadata": {},
   "source": [
    "## Parte 3"
   ]
  },
  {
   "cell_type": "markdown",
   "metadata": {},
   "source": [
    "Seu amigo de infância, Protagoras, soube que você estava embarcando em uma aventura para matar o lendário Tiamat e lhe deu um escudo de bronze para ajudar-lhe nessa perigosa missão!\n",
    "\n",
    "**Tarefa:**\n",
    "\n",
    "Adicione um escudo de bronze dentro da lista da chave \"objetos\""
   ]
  },
  {
   "cell_type": "code",
   "execution_count": null,
   "metadata": {},
   "outputs": [],
   "source": [
    "#COMECE SEU CÓDIGO AQUI(≅ 1 linha)\n",
    "\n",
    "\n",
    "#TERMINE SEU CÓDIGO AQUI\n",
    "\n",
    "inventory"
   ]
  },
  {
   "cell_type": "markdown",
   "metadata": {},
   "source": [
    "--------------------------\n",
    "**Resultado esperado**: \n",
    "\n",
    "\n",
    "<table>\n",
    "    <tr> \n",
    "\n",
    " {'nome': 'Seu nome escolhido',            \n",
    " 'moedas': 1600,            \n",
    " 'objetos': ['espada de madeira', 'armadura de pano', 'escudo de bronze'],            \n",
    " 'bolso': '',            \n",
    " 'mochila': {'tochas': 2, 'cristais de rubi': 1}} \n",
    "    </tr>\n",
    "</table> \n",
    "\n"
   ]
  },
  {
   "cell_type": "markdown",
   "metadata": {},
   "source": [
    "## Parte 4"
   ]
  },
  {
   "cell_type": "markdown",
   "metadata": {},
   "source": [
    "O lendário dragão Tiamat não tem cara de muitos amigos e não parece que será derrotado por uma mera espada de madeira. Para juntar mais moedas e comprar uma nova espada, você vendeu seu cristal de rubi por 5000 moedas para um mercante em Pytown.\n",
    "\n",
    "**Tarefa:**\n",
    "\n",
    "1)Subtraia 1 cristal de rubi do seu dicionário \"mochila\" dentro do dicionário \"inventory\".                                       \n",
    "2)Some 5000 moedas à chave \"moedas\" em seu inventário.\n"
   ]
  },
  {
   "cell_type": "code",
   "execution_count": null,
   "metadata": {},
   "outputs": [],
   "source": [
    "#COMECE SEU CÓDIGO AQUI(≅ 2 linhas)\n",
    "\n",
    "\n",
    "#TERMINE SEU CÓDIGO AQUI\n",
    "\n",
    "inventory"
   ]
  },
  {
   "cell_type": "markdown",
   "metadata": {},
   "source": [
    "--------------------------\n",
    "**Resultado esperado**: \n",
    "\n",
    "\n",
    "<table>\n",
    "    <tr> \n",
    "\n",
    " {'nome': 'Seu nome escolhido',            \n",
    " 'moedas': 6600,            \n",
    " 'objetos': ['espada de madeira', 'armadura de pano', 'escudo de bronze'],            \n",
    " 'bolso': '',            \n",
    " 'mochila': {'tochas': 2, 'cristais de rubi': 0}} \n",
    "    </tr>\n",
    "</table> \n",
    "\n"
   ]
  },
  {
   "cell_type": "markdown",
   "metadata": {},
   "source": [
    "## Parte 5"
   ]
  },
  {
   "cell_type": "markdown",
   "metadata": {},
   "source": [
    "WOW! 6600 moedas não está nada mal! São quase 2 dolares na cotação atual de pymoneys (moeda local em Pyonia). Você foi até o ferreiro e trocou sua espada de madeira + 6500 moedas por uma espada de aço.\n",
    "\n",
    "**Tarefa:** \n",
    "\n",
    "1)Subtraia 6500 moedas da chave \"moedas\".                                             \n",
    "2)Troque sua \"espada de madeira\" por uma \"espada de aço\" na lista \"objetos\"."
   ]
  },
  {
   "cell_type": "code",
   "execution_count": null,
   "metadata": {},
   "outputs": [],
   "source": [
    "#COMECE SEU CÓDIGO AQUI (≅ 2 linhas)\n",
    "\n",
    "\n",
    "#TERMINE SEU CÓDIGO AQUI\n",
    "\n",
    "inventory"
   ]
  },
  {
   "cell_type": "markdown",
   "metadata": {},
   "source": [
    "--------------------------\n",
    "**Resultado esperado**: \n",
    "\n",
    "\n",
    "<table>\n",
    "    <tr> \n",
    "\n",
    " {'nome': 'Seu nome escolhido',            \n",
    " 'moedas': 100,            \n",
    " 'objetos': ['espada de aço', 'armadura de pano', 'escudo de bronze'],            \n",
    " 'bolso': '',            \n",
    " 'mochila': {'tochas': 2, 'cristais de rubi': 0}} \n",
    "    </tr>\n",
    "</table> \n",
    "\n"
   ]
  },
  {
   "cell_type": "markdown",
   "metadata": {},
   "source": [
    "# Parte 6"
   ]
  },
  {
   "cell_type": "markdown",
   "metadata": {},
   "source": [
    "Está na hora, guerreiro(a)! Você saiu pelos portões da cidade de Pytown seguindo para o extremo norte de Pyonia, onde habita o lendário Tiamat e no meio do caminho encontrou uma sacola contendo uma pederneira!\n",
    "\n",
    "**Tarefa:** \n",
    "\n",
    "Adicione um dicionário dentro do item \"bolso\". A chave desse dicionário deve chamar-se \"sacola\" e \"pederneira\" deve ser o valor do item no dicionário.\n"
   ]
  },
  {
   "cell_type": "code",
   "execution_count": null,
   "metadata": {},
   "outputs": [],
   "source": [
    "#COMECE SEU CÓDIGO AQUI (≅ 1 linha)\n",
    "\n",
    "\n",
    "\n",
    "#TERMINE SEU CÓDIGO AQUI\n",
    "\n",
    "inventory"
   ]
  },
  {
   "cell_type": "markdown",
   "metadata": {},
   "source": [
    "--------------------------\n",
    "**Resultado esperado**: \n",
    "\n",
    "\n",
    "<table>\n",
    "    <tr> \n",
    "\n",
    " {'nome': 'Seu nome escolhido',            \n",
    " 'moedas': 100,            \n",
    " 'objetos': ['espada de aço', 'armadura de pano', 'escudo de bronze'],            \n",
    " 'bolso': {'sacola':'pederneira'},            \n",
    " 'mochila': {'tochas': 2, 'cristais de rubi': 0}} \n",
    "    </tr>\n",
    "</table> \n",
    "\n"
   ]
  },
  {
   "cell_type": "markdown",
   "metadata": {},
   "source": [
    "## Parte 7"
   ]
  },
  {
   "cell_type": "markdown",
   "metadata": {},
   "source": [
    "Após 3 dias de longas caminhadas você chegou ao covil do lendário dragão Tiamat! Mas espere! O que é aquilo no chão? Parabéns, você encontrou 2 cristais de esmeralda!\n",
    "\n",
    "**Tarefa:**\n",
    "\n",
    "Adicione os 2 cristais de esmeralda como um item do dicionário \"mochila\". \"cristais de esmeralda\" será a chave e \"2\" será o valor.\n"
   ]
  },
  {
   "cell_type": "code",
   "execution_count": null,
   "metadata": {},
   "outputs": [],
   "source": [
    "#COMECE SEU CÓDIGO AQUI (≅ 1 linha)\n",
    "\n",
    "\n",
    "\n",
    "#TERMINE SEU CÓDIGO AQUI\n",
    "\n",
    "inventory"
   ]
  },
  {
   "cell_type": "markdown",
   "metadata": {},
   "source": [
    "--------------------------\n",
    "**Resultado esperado**: \n",
    "\n",
    "\n",
    "<table>\n",
    "    <tr> \n",
    "\n",
    " {'nome': 'Seu nome escolhido',            \n",
    " 'moedas': 100,            \n",
    " 'objetos': ['espada de aço', 'armadura de pano', 'escudo de bronze'],            \n",
    " 'bolso': {'sacola':'pederneira'},            \n",
    " 'mochila': {'tochas': 2, 'cristais de rubi': 0, 'cristais de esmeralda': 2}} \n",
    "    </tr>\n",
    "</table> "
   ]
  },
  {
   "cell_type": "markdown",
   "metadata": {},
   "source": [
    "## Parte 8"
   ]
  },
  {
   "cell_type": "markdown",
   "metadata": {},
   "source": [
    "O covil de Tiamat parece estar escuro. Utilize uma tocha e sua pederneira para gerar luz\n",
    "\n",
    "**Tarefa:** \n",
    "\n",
    "Troque o valor de suas tochas para 1, utilize o métrodo update() para isso."
   ]
  },
  {
   "cell_type": "code",
   "execution_count": null,
   "metadata": {},
   "outputs": [],
   "source": [
    "#COMECE SEU CÓDIGO AQUI (≅ 1 linha)\n",
    "\n",
    "\n",
    "\n",
    "#TERMINE SEU CÓDIGO AQUI\n",
    "\n",
    "inventory"
   ]
  },
  {
   "cell_type": "markdown",
   "metadata": {},
   "source": [
    "--------------------------\n",
    "**Resultado esperado**: \n",
    "\n",
    "\n",
    "<table>\n",
    "    <tr> \n",
    "\n",
    " {'nome': 'Seu nome escolhido',            \n",
    " 'moedas': 100,            \n",
    " 'objetos': ['espada de aço', 'armadura de pano', 'escudo de bronze'],            \n",
    " 'bolso': {'sacola':'pederneira'},            \n",
    " 'mochila': {'tochas': 1, 'cristais de rubi': 0, 'cristais de esmeralda': 2}} \n",
    "    </tr>\n",
    "</table> \n",
    "\n"
   ]
  },
  {
   "cell_type": "markdown",
   "metadata": {},
   "source": [
    "## Parte 9"
   ]
  },
  {
   "cell_type": "markdown",
   "metadata": {},
   "source": [
    "Você caminha por alguns minutos para dentro do covil quando sente uma corrente de ar quente passando por todo seu corpo, é ele! O grande dragão Tiamat! Sua única chance de vencer é tirar o número 10 no dado! (mas quem precisa de um dado quando se está programando em python, não é mesmo?)\n",
    "\n",
    "**Tarefa:**\n",
    "\n",
    "Crie um loop while que utiliza um método randint que gera números aleatórios de 1 a 10 e só para quando o resultado for 10. Printe cada iteração do loop"
   ]
  },
  {
   "cell_type": "code",
   "execution_count": null,
   "metadata": {},
   "outputs": [],
   "source": [
    "import random\n",
    "\n",
    "#COMECE SEU CÓDIGO AQUI (≅ 4 linhas)\n",
    "\n",
    "\n",
    "\n",
    "\n",
    "\n",
    "#TERMINE SEU CÓDIGO AQUI"
   ]
  },
  {
   "cell_type": "markdown",
   "metadata": {},
   "source": [
    "--------------------------\n",
    "**Resultado esperado**: (Note que os números podem não ser os mesmos, pois são gerados de forma aleatória)\n",
    "\n",
    "\n",
    "9             \n",
    "        \n",
    "1            \n",
    "        \n",
    "2       \n",
    "        \n",
    "7      \n",
    "        \n",
    "3       \n",
    "        \n",
    "5       \n",
    "        \n",
    "10                                                                                                                             "
   ]
  },
  {
   "cell_type": "markdown",
   "metadata": {},
   "source": [
    "## Parte 10"
   ]
  },
  {
   "cell_type": "markdown",
   "metadata": {},
   "source": [
    "Yesssss, parece que você venceu! O que é aqui? Parece que Tiamat estava guardando algum tipo de baú do tesouro, ao abrir o baú você se depara com 3 tochas, 3 cristais de rubi e 3 cristais de esmeralda!\n",
    "\n",
    "**Tarefa:**\n",
    "\n",
    "Crie um loop que soma 3 a todos os valores do dicionário \"mochila\"."
   ]
  },
  {
   "cell_type": "code",
   "execution_count": null,
   "metadata": {},
   "outputs": [],
   "source": [
    "#COMECE SEU CÓDIGO AQUI (≅ 2 linhas)\n",
    "\n",
    "\n",
    "\n",
    "#TERMINE SEU CÓDIGO AQUI\n",
    "\n",
    "inventory"
   ]
  },
  {
   "cell_type": "markdown",
   "metadata": {},
   "source": [
    "--------------------------\n",
    "**Resultado esperado**: \n",
    "\n",
    "\n",
    "<table>\n",
    "    <tr> \n",
    "\n",
    " {'nome': 'Seu nome escolhido',            \n",
    " 'moedas': 100,            \n",
    " 'objetos': ['espada de aço', 'armadura de pano', 'escudo de bronze'],            \n",
    " 'bolso': {'sacola':'pederneira'},            \n",
    " 'mochila': {'tochas': 4, 'cristais de rubi': 3, 'cristais de esmeralda': 5}} \n",
    "    </tr>\n",
    "</table> \n"
   ]
  },
  {
   "cell_type": "markdown",
   "metadata": {},
   "source": [
    "# Parabéns aventureiro(a)!\n",
    "\n",
    "# Você retornou à Pytown e aclamou o seu prêmio por derrotar o dragão, é uma nova era em Pyonia!"
   ]
  },
  {
   "cell_type": "markdown",
   "metadata": {},
   "source": [
    "<img src = \"imgs/maxresdefault.jpg\"/>"
   ]
  }
 ],
 "metadata": {
  "kernelspec": {
   "display_name": "Python 3 (ipykernel)",
   "language": "python",
   "name": "python3"
  },
  "language_info": {
   "codemirror_mode": {
    "name": "ipython",
    "version": 3
   },
   "file_extension": ".py",
   "mimetype": "text/x-python",
   "name": "python",
   "nbconvert_exporter": "python",
   "pygments_lexer": "ipython3",
   "version": "3.9.13"
  }
 },
 "nbformat": 4,
 "nbformat_minor": 4
}
