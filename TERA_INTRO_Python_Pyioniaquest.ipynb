{
  "nbformat": 4,
  "nbformat_minor": 0,
  "metadata": {
    "colab": {
      "provenance": [],
      "name": "TERA_INTRO_Python_Pyioniaquest.ipynb",
      "authorship_tag": "ABX9TyO1iMgvmnSFkuicz5xsODZ6",
      "include_colab_link": true
    },
    "kernelspec": {
      "name": "python3",
      "display_name": "Python 3"
    },
    "language_info": {
      "name": "python"
    }
  },
  "cells": [
    {
      "cell_type": "markdown",
      "metadata": {
        "id": "view-in-github",
        "colab_type": "text"
      },
      "source": [
        "<a href=\"https://colab.research.google.com/github/EmanuelleBe/EmanuelleBe/blob/main/TERA_INTRO_Python_Pyioniaquest.ipynb\" target=\"_parent\"><img src=\"https://colab.research.google.com/assets/colab-badge.svg\" alt=\"Open In Colab\"/></a>"
      ]
    },
    {
      "cell_type": "markdown",
      "source": [
        "# Seja muito bem vindo, aventureiro(a)!\n",
        "\n",
        " Você acaba de iniciar sua jornada pelo mundo de Pyonia, terra de reis, rainhas, dragões e criaturas mágicas!\n",
        "\n",
        "Aqui em Pyonia as leis da física e a realidade não são lá tão importantes, tudo que importa é quão longe seu código em Python e imaginação podem chegar.\n",
        "\n",
        "\n",
        "Pois bem, aventureiro(a), é chegada a hora de apresentar sua **missão**!\n",
        "\n",
        "Você é um camponês nascido na plebe do reino Sul de Pyonia, toda riqueza que possui são **100 moedas** e **um cristal de rubi** deixados pelo seu falecido pai, mas sua pobre vida pacata toma um novo curso quando o rei promete riquezas com valor incanculável para aquele que derrotar o lendário Dragon Vermelho, Tiamat.\n",
        "\n",
        "### O jogo:\n",
        "\n",
        "No mundo de Pyonia é proibido alterar a célula do dicionário principal, utilize a sintaxe python e os métodos de manipulação de dicionários para adaptar o seu inventário à narrativa da história nas células posteriores.\n",
        "\n",
        "Se você é inexperiente com Python ou com o Jupyter notebook, é aconselhável que você insira seu código entre os comentários **#COMECE SEU CÓDIGO AQUI** e **#TERMINE SEU CÓDIGO AQUI** para uma melhor experiência com esse notebook.\n",
        "\n",
        "De qualquer forma, fique à vontade para abrir novas células e consultar o google, stackoverflow e afins caso não saiba resolver algo. A comunidade é nossa amiga!\n"
      ],
      "metadata": {
        "id": "HaeS-_d0Y51N"
      }
    },
    {
      "cell_type": "code",
      "source": [
        "# Rode essa célula para iniciar o Jogo\n",
        "# Se você alterar essa célula Pyonia irá se auto destruir\n",
        "\n",
        "inventory = {'nome': 'seu nome',\n",
        "             'moedas':100,\n",
        "             'objetos':['espada de madeira','armadura de pano'],\n",
        "             'bolso' : '',\n",
        "             'mochila': {'tochas':2, 'cristais de rubi':1}}"
      ],
      "metadata": {
        "id": "o1XrSaPGY47C"
      },
      "execution_count": 11,
      "outputs": []
    },
    {
      "cell_type": "markdown",
      "source": [
        " Já sabemos que você é um(a) aventureiro(a), mas todo aventureiro(a) precisa de um nome.\n",
        "\n",
        "**Tarefa:**\n",
        "\n",
        "Substitua o valor 'seu nome aqui' pelo seu nome, real ou fictício."
      ],
      "metadata": {
        "id": "zjAqHGLzZICG"
      }
    },
    {
      "cell_type": "code",
      "source": [
        "inventory['nome'] = 'Emanuelle'\n",
        "\n"
      ],
      "metadata": {
        "id": "F1T_qxdFZHgO"
      },
      "execution_count": 12,
      "outputs": []
    },
    {
      "cell_type": "code",
      "source": [
        "inventory"
      ],
      "metadata": {
        "id": "clgjzr_oZaNQ",
        "outputId": "ffac5fbc-0ccf-4827-a715-b0d6cc0e37e1",
        "colab": {
          "base_uri": "https://localhost:8080/"
        }
      },
      "execution_count": 13,
      "outputs": [
        {
          "output_type": "execute_result",
          "data": {
            "text/plain": [
              "{'nome': 'Emanuelle',\n",
              " 'moedas': 100,\n",
              " 'objetos': ['espada de madeira', 'armadura de pano'],\n",
              " 'bolso': '',\n",
              " 'mochila': {'tochas': 2, 'cristais de rubi': 1}}"
            ]
          },
          "metadata": {},
          "execution_count": 13
        }
      ]
    },
    {
      "cell_type": "markdown",
      "source": [
        "Neste momento você encontra-se determinado para embarcar na sua missão e decide passar no centro da cidade de Pytown para comprar alguns itens que possam lhe ajudar.\n",
        "\n",
        "100 moedas não é lá muito dinheiro em Pyonia, então você decide trabalhar por um dia inteiro para um mercante da cidade de Pytown e ganha 1500 moedas!\n",
        "\n",
        "**Tarefa:**\n",
        "\n",
        "Some 1500 à chave \"moedas\" do seu inventário"
      ],
      "metadata": {
        "id": "NVYp4O2tZh5B"
      }
    },
    {
      "cell_type": "code",
      "source": [
        "#\n",
        "inventory['moedas'] +=1500\n",
        "#\n",
        "inventory"
      ],
      "metadata": {
        "id": "D6r3PpsKZjtP",
        "outputId": "7de4e6c0-379c-48a2-eb1c-d6c43c849ca2",
        "colab": {
          "base_uri": "https://localhost:8080/"
        }
      },
      "execution_count": 14,
      "outputs": [
        {
          "output_type": "execute_result",
          "data": {
            "text/plain": [
              "{'nome': 'Emanuelle',\n",
              " 'moedas': 1600,\n",
              " 'objetos': ['espada de madeira', 'armadura de pano'],\n",
              " 'bolso': '',\n",
              " 'mochila': {'tochas': 2, 'cristais de rubi': 1}}"
            ]
          },
          "metadata": {},
          "execution_count": 14
        }
      ]
    },
    {
      "cell_type": "markdown",
      "source": [
        "Seu amigo de infância, Protagoras, soube que você estava embarcando em uma aventura para matar o lendário Tiamat e lhe deu um escudo de bronze para ajudar-lhe nessa perigosa missão!\n",
        "\n",
        "**Tarefa:**\n",
        "\n",
        "Adicione um escudo de bronze dentro da lista da chave \"objetos\""
      ],
      "metadata": {
        "id": "6uLDpTnSZsl8"
      }
    },
    {
      "cell_type": "code",
      "source": [
        "#\n",
        "inventory['objetos'].append('escudo de bronze')\n",
        "#\n",
        "inventory"
      ],
      "metadata": {
        "id": "h0AcZ-tEZzRT",
        "outputId": "c5687e09-a086-4db6-c105-5428aac88f86",
        "colab": {
          "base_uri": "https://localhost:8080/"
        }
      },
      "execution_count": 15,
      "outputs": [
        {
          "output_type": "execute_result",
          "data": {
            "text/plain": [
              "{'nome': 'Emanuelle',\n",
              " 'moedas': 1600,\n",
              " 'objetos': ['espada de madeira', 'armadura de pano', 'escudo de bronze'],\n",
              " 'bolso': '',\n",
              " 'mochila': {'tochas': 2, 'cristais de rubi': 1}}"
            ]
          },
          "metadata": {},
          "execution_count": 15
        }
      ]
    },
    {
      "cell_type": "markdown",
      "source": [
        "O lendário dragão Tiamat não tem cara de muitos amigos e não parece que será derrotado por uma mera espada de madeira. Para juntar mais moedas e comprar uma nova espada, você vendeu seu cristal de rubi por 5000 moedas para um mercante em Pytown.\n",
        "\n",
        "**Tarefa:**\n",
        "\n",
        "1)Subtraia 1 cristal de rubi do seu dicionário \"mochila\" dentro do dicionário \"inventory\".                                       \n",
        "2)Some 5000 moedas à chave \"moedas\" em seu inventário."
      ],
      "metadata": {
        "id": "nRomy8M8bL77"
      }
    },
    {
      "cell_type": "code",
      "source": [
        "#\n",
        "inventory['mochila']['cristais de rubi'] -= 1\n",
        "inventory['moedas'] +=5000\n",
        "#\n",
        "inventory"
      ],
      "metadata": {
        "id": "Ze0kivEObUIM",
        "outputId": "66d56d7d-e72a-4970-f0de-1b3e381eff51",
        "colab": {
          "base_uri": "https://localhost:8080/"
        }
      },
      "execution_count": 16,
      "outputs": [
        {
          "output_type": "execute_result",
          "data": {
            "text/plain": [
              "{'nome': 'Emanuelle',\n",
              " 'moedas': 6600,\n",
              " 'objetos': ['espada de madeira', 'armadura de pano', 'escudo de bronze'],\n",
              " 'bolso': '',\n",
              " 'mochila': {'tochas': 2, 'cristais de rubi': 0}}"
            ]
          },
          "metadata": {},
          "execution_count": 16
        }
      ]
    },
    {
      "cell_type": "markdown",
      "source": [
        "WOW! 6600 moedas não está nada mal! São quase 2 dolares na cotação atual de pymoneys (moeda local em Pyonia). Você foi até o ferreiro e trocou sua espada de madeira + 6500 moedas por uma espada de aço.\n",
        "\n",
        "**Tarefa:**\n",
        "\n",
        "1)Subtraia 6500 moedas da chave \"moedas\".                                             \n",
        "2)Troque sua \"espada de madeira\" por uma \"espada de aço\" na lista \"objetos\"."
      ],
      "metadata": {
        "id": "S6zIP1JmcRXs"
      }
    },
    {
      "cell_type": "code",
      "source": [
        "#\n",
        "inventory['moedas'] -=6500\n",
        "inventory['objetos'][0] = 'espada de aço'\n",
        "#\n",
        "inventory"
      ],
      "metadata": {
        "id": "gwGLt2ACcX1z",
        "outputId": "9eebd22f-9d35-4e6f-a8ca-7656cff72282",
        "colab": {
          "base_uri": "https://localhost:8080/"
        }
      },
      "execution_count": 17,
      "outputs": [
        {
          "output_type": "execute_result",
          "data": {
            "text/plain": [
              "{'nome': 'Emanuelle',\n",
              " 'moedas': 100,\n",
              " 'objetos': ['espada de aço', 'armadura de pano', 'escudo de bronze'],\n",
              " 'bolso': '',\n",
              " 'mochila': {'tochas': 2, 'cristais de rubi': 0}}"
            ]
          },
          "metadata": {},
          "execution_count": 17
        }
      ]
    },
    {
      "cell_type": "markdown",
      "source": [
        "Após 3 dias de longas caminhadas você chegou ao covil do lendário dragão Tiamat! Mas espere! O que é aquilo no chão? Parabéns, você encontrou 2 cristais de esmeralda!\n",
        "\n",
        "**Tarefa:**\n",
        "\n",
        "Adicione os 2 cristais de esmeralda como um item do dicionário \"mochila\". \"cristais de esmeralda\" será a chave e \"2\" será o valor.\n"
      ],
      "metadata": {
        "id": "3bstiCXTdCpO"
      }
    },
    {
      "cell_type": "code",
      "source": [
        "#\n",
        "inventory['mochila']['cristais de esmeralda'] = 2\n",
        "#\n",
        "inventory"
      ],
      "metadata": {
        "id": "8afh2hvEdHO-",
        "outputId": "c9ee7f48-da47-42c1-fa15-33ea551c16b9",
        "colab": {
          "base_uri": "https://localhost:8080/"
        }
      },
      "execution_count": 18,
      "outputs": [
        {
          "output_type": "execute_result",
          "data": {
            "text/plain": [
              "{'nome': 'Emanuelle',\n",
              " 'moedas': 100,\n",
              " 'objetos': ['espada de aço', 'armadura de pano', 'escudo de bronze'],\n",
              " 'bolso': '',\n",
              " 'mochila': {'tochas': 2, 'cristais de rubi': 0, 'cristais de esmeralda': 2}}"
            ]
          },
          "metadata": {},
          "execution_count": 18
        }
      ]
    },
    {
      "cell_type": "markdown",
      "source": [
        "O covil de Tiamat parece estar escuro. Utilize uma tocha e sua pederneira para gerar luz\n",
        "\n",
        "**Tarefa:**\n",
        "\n",
        "Troque o valor de suas tochas para 1, utilize o métrodo update() para isso."
      ],
      "metadata": {
        "id": "ogTGCKjQgRKj"
      }
    },
    {
      "cell_type": "code",
      "source": [
        " #\n",
        " inventory['mochila'].update({'tochas': 1})\n",
        " #\n",
        " inventory"
      ],
      "metadata": {
        "id": "5OpX_WBPgV7E",
        "outputId": "ff3378c0-7f74-4f41-f0c1-7ff1dcf4ede2",
        "colab": {
          "base_uri": "https://localhost:8080/"
        }
      },
      "execution_count": 19,
      "outputs": [
        {
          "output_type": "execute_result",
          "data": {
            "text/plain": [
              "{'nome': 'Emanuelle',\n",
              " 'moedas': 100,\n",
              " 'objetos': ['espada de aço', 'armadura de pano', 'escudo de bronze'],\n",
              " 'bolso': '',\n",
              " 'mochila': {'tochas': 1, 'cristais de rubi': 0, 'cristais de esmeralda': 2}}"
            ]
          },
          "metadata": {},
          "execution_count": 19
        }
      ]
    },
    {
      "cell_type": "markdown",
      "source": [
        "Está na hora, guerreiro(a)! Você saiu pelos portões da cidade de Pytown seguindo para o extremo norte de Pyonia, onde habita o lendário Tiamat e no meio do caminho encontrou uma sacola contendo uma pederneira!\n",
        "\n",
        "**Tarefa:**\n",
        "\n",
        "Adicione um dicionário dentro do item \"bolso\". A chave desse dicionário deve chamar-se \"sacola\" e \"pederneira\" deve ser o valor do item no dicionário."
      ],
      "metadata": {
        "id": "wnhPOE2ujUnt"
      }
    },
    {
      "cell_type": "code",
      "source": [
        "#\n",
        "inventory['bolso'] = {'sacola': 'pederneira'}\n",
        "#\n",
        "inventory"
      ],
      "metadata": {
        "id": "oa8MD421jVhw",
        "outputId": "d871aeb3-c382-4b1e-e055-0ca3533e51f7",
        "colab": {
          "base_uri": "https://localhost:8080/"
        }
      },
      "execution_count": 20,
      "outputs": [
        {
          "output_type": "execute_result",
          "data": {
            "text/plain": [
              "{'nome': 'Emanuelle',\n",
              " 'moedas': 100,\n",
              " 'objetos': ['espada de aço', 'armadura de pano', 'escudo de bronze'],\n",
              " 'bolso': {'sacola': 'pederneira'},\n",
              " 'mochila': {'tochas': 1, 'cristais de rubi': 0, 'cristais de esmeralda': 2}}"
            ]
          },
          "metadata": {},
          "execution_count": 20
        }
      ]
    },
    {
      "cell_type": "markdown",
      "source": [
        "Você caminha por alguns minutos para dentro do covil quando sente uma corrente de ar quente passando por todo seu corpo, é ele! O grande dragão Tiamat! Sua única chance de vencer é tirar o número 10 no dado! (mas quem precisa de um dado quando se está programando em python, não é mesmo?)\n",
        "\n",
        "**Tarefa:**\n",
        "\n",
        "Crie um loop while que utiliza um método randint que gera números aleatórios de 1 a 10 e só para quando o resultado for 10. Printe cada iteração do loop"
      ],
      "metadata": {
        "id": "rH-zumbMjpja"
      }
    },
    {
      "cell_type": "code",
      "source": [
        "import random\n",
        "#\n",
        "num = random.randint(1, 10)\n",
        "\n",
        "while num != 10:\n",
        "  num = random.randint(1, 10)\n",
        "  print(num)\n",
        "#"
      ],
      "metadata": {
        "id": "lqqaH9lyjqVB",
        "outputId": "4b770242-2476-466b-83d3-7a623fb66ce4",
        "colab": {
          "base_uri": "https://localhost:8080/"
        }
      },
      "execution_count": 22,
      "outputs": [
        {
          "output_type": "stream",
          "name": "stdout",
          "text": [
            "3\n",
            "7\n",
            "7\n",
            "9\n",
            "1\n",
            "2\n",
            "1\n",
            "6\n",
            "8\n",
            "1\n",
            "6\n",
            "1\n",
            "8\n",
            "3\n",
            "8\n",
            "8\n",
            "9\n",
            "7\n",
            "10\n"
          ]
        }
      ]
    },
    {
      "cell_type": "markdown",
      "source": [
        "Yesssss, parece que você venceu! O que é aqui? Parece que Tiamat estava guardando algum tipo de baú do tesouro, ao abrir o baú você se depara com 3 tochas, 3 cristais de rubi e 3 cristais de esmeralda!\n",
        "\n",
        "**Tarefa:**\n",
        "\n",
        "Crie um loop que soma 3 a todos os valores do dicionário \"mochila\"."
      ],
      "metadata": {
        "id": "XLrIwJnwkRSM"
      }
    },
    {
      "cell_type": "code",
      "source": [
        "#\n",
        "for i in inventory['mochila'].keys():\n",
        "  inventory['mochila'][i] +=3\n",
        "#\n",
        "inventory"
      ],
      "metadata": {
        "id": "J0wuIxEwkV1l",
        "outputId": "474232b0-5c47-453b-ff9e-c7031a9fd305",
        "colab": {
          "base_uri": "https://localhost:8080/"
        }
      },
      "execution_count": 23,
      "outputs": [
        {
          "output_type": "execute_result",
          "data": {
            "text/plain": [
              "{'nome': 'Emanuelle',\n",
              " 'moedas': 100,\n",
              " 'objetos': ['espada de aço', 'armadura de pano', 'escudo de bronze'],\n",
              " 'bolso': {'sacola': 'pederneira'},\n",
              " 'mochila': {'tochas': 4, 'cristais de rubi': 3, 'cristais de esmeralda': 5}}"
            ]
          },
          "metadata": {},
          "execution_count": 23
        }
      ]
    },
    {
      "cell_type": "markdown",
      "source": [
        "# Parabéns aventureiro(a)!\n",
        "\n",
        "# Você retornou à Pytown e aclamou o seu prêmio por derrotar o dragão, é uma nova era em Pyonia!\n"
      ],
      "metadata": {
        "id": "q5W83tkxkqjj"
      }
    },
    {
      "cell_type": "markdown",
      "source": [
        "<img src = \"imgs/maxresdefault.jpg\"/>\n"
      ],
      "metadata": {
        "id": "N3teaXVsku2o"
      }
    }
  ]
}