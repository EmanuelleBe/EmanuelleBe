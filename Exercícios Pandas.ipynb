{
 "cells": [
  {
   "cell_type": "code",
   "execution_count": 1,
   "id": "d8833e4c",
   "metadata": {},
   "outputs": [],
   "source": [
    "import pandas as pd\n",
    "import seaborn as sns"
   ]
  },
  {
   "cell_type": "code",
   "execution_count": 2,
   "id": "6ed5ba5e",
   "metadata": {},
   "outputs": [],
   "source": [
    "#Importando dataset\n",
    "df = pd.read_excel('Notas.xlsx')"
   ]
  },
  {
   "cell_type": "code",
   "execution_count": 3,
   "id": "6533ef18",
   "metadata": {},
   "outputs": [
    {
     "data": {
      "text/html": [
       "<div>\n",
       "<style scoped>\n",
       "    .dataframe tbody tr th:only-of-type {\n",
       "        vertical-align: middle;\n",
       "    }\n",
       "\n",
       "    .dataframe tbody tr th {\n",
       "        vertical-align: top;\n",
       "    }\n",
       "\n",
       "    .dataframe thead th {\n",
       "        text-align: right;\n",
       "    }\n",
       "</style>\n",
       "<table border=\"1\" class=\"dataframe\">\n",
       "  <thead>\n",
       "    <tr style=\"text-align: right;\">\n",
       "      <th></th>\n",
       "      <th>genero</th>\n",
       "      <th>etnia</th>\n",
       "      <th>escolaridade dos pais</th>\n",
       "      <th>almoco</th>\n",
       "      <th>simulado</th>\n",
       "      <th>nota matematica</th>\n",
       "      <th>nota literatura</th>\n",
       "      <th>nota redacao</th>\n",
       "    </tr>\n",
       "  </thead>\n",
       "  <tbody>\n",
       "    <tr>\n",
       "      <th>0</th>\n",
       "      <td>female</td>\n",
       "      <td>group B</td>\n",
       "      <td>bachelor's degree</td>\n",
       "      <td>standard</td>\n",
       "      <td>none</td>\n",
       "      <td>72</td>\n",
       "      <td>72</td>\n",
       "      <td>74</td>\n",
       "    </tr>\n",
       "    <tr>\n",
       "      <th>1</th>\n",
       "      <td>female</td>\n",
       "      <td>group C</td>\n",
       "      <td>some college</td>\n",
       "      <td>standard</td>\n",
       "      <td>completed</td>\n",
       "      <td>69</td>\n",
       "      <td>90</td>\n",
       "      <td>88</td>\n",
       "    </tr>\n",
       "    <tr>\n",
       "      <th>2</th>\n",
       "      <td>female</td>\n",
       "      <td>group B</td>\n",
       "      <td>master's degree</td>\n",
       "      <td>standard</td>\n",
       "      <td>none</td>\n",
       "      <td>90</td>\n",
       "      <td>95</td>\n",
       "      <td>93</td>\n",
       "    </tr>\n",
       "    <tr>\n",
       "      <th>3</th>\n",
       "      <td>male</td>\n",
       "      <td>group A</td>\n",
       "      <td>associate's degree</td>\n",
       "      <td>free/reduced</td>\n",
       "      <td>none</td>\n",
       "      <td>47</td>\n",
       "      <td>57</td>\n",
       "      <td>44</td>\n",
       "    </tr>\n",
       "    <tr>\n",
       "      <th>4</th>\n",
       "      <td>male</td>\n",
       "      <td>group C</td>\n",
       "      <td>some college</td>\n",
       "      <td>standard</td>\n",
       "      <td>none</td>\n",
       "      <td>76</td>\n",
       "      <td>78</td>\n",
       "      <td>75</td>\n",
       "    </tr>\n",
       "    <tr>\n",
       "      <th>...</th>\n",
       "      <td>...</td>\n",
       "      <td>...</td>\n",
       "      <td>...</td>\n",
       "      <td>...</td>\n",
       "      <td>...</td>\n",
       "      <td>...</td>\n",
       "      <td>...</td>\n",
       "      <td>...</td>\n",
       "    </tr>\n",
       "    <tr>\n",
       "      <th>995</th>\n",
       "      <td>female</td>\n",
       "      <td>group E</td>\n",
       "      <td>master's degree</td>\n",
       "      <td>standard</td>\n",
       "      <td>completed</td>\n",
       "      <td>88</td>\n",
       "      <td>99</td>\n",
       "      <td>95</td>\n",
       "    </tr>\n",
       "    <tr>\n",
       "      <th>996</th>\n",
       "      <td>male</td>\n",
       "      <td>group C</td>\n",
       "      <td>high school</td>\n",
       "      <td>free/reduced</td>\n",
       "      <td>none</td>\n",
       "      <td>62</td>\n",
       "      <td>55</td>\n",
       "      <td>55</td>\n",
       "    </tr>\n",
       "    <tr>\n",
       "      <th>997</th>\n",
       "      <td>female</td>\n",
       "      <td>group C</td>\n",
       "      <td>high school</td>\n",
       "      <td>free/reduced</td>\n",
       "      <td>completed</td>\n",
       "      <td>59</td>\n",
       "      <td>71</td>\n",
       "      <td>65</td>\n",
       "    </tr>\n",
       "    <tr>\n",
       "      <th>998</th>\n",
       "      <td>female</td>\n",
       "      <td>group D</td>\n",
       "      <td>some college</td>\n",
       "      <td>standard</td>\n",
       "      <td>completed</td>\n",
       "      <td>68</td>\n",
       "      <td>78</td>\n",
       "      <td>77</td>\n",
       "    </tr>\n",
       "    <tr>\n",
       "      <th>999</th>\n",
       "      <td>female</td>\n",
       "      <td>group D</td>\n",
       "      <td>some college</td>\n",
       "      <td>free/reduced</td>\n",
       "      <td>none</td>\n",
       "      <td>77</td>\n",
       "      <td>86</td>\n",
       "      <td>86</td>\n",
       "    </tr>\n",
       "  </tbody>\n",
       "</table>\n",
       "<p>1000 rows × 8 columns</p>\n",
       "</div>"
      ],
      "text/plain": [
       "     genero    etnia escolaridade dos pais        almoco   simulado  \\\n",
       "0    female  group B     bachelor's degree      standard       none   \n",
       "1    female  group C          some college      standard  completed   \n",
       "2    female  group B       master's degree      standard       none   \n",
       "3      male  group A    associate's degree  free/reduced       none   \n",
       "4      male  group C          some college      standard       none   \n",
       "..      ...      ...                   ...           ...        ...   \n",
       "995  female  group E       master's degree      standard  completed   \n",
       "996    male  group C           high school  free/reduced       none   \n",
       "997  female  group C           high school  free/reduced  completed   \n",
       "998  female  group D          some college      standard  completed   \n",
       "999  female  group D          some college  free/reduced       none   \n",
       "\n",
       "     nota matematica  nota literatura  nota redacao  \n",
       "0                 72               72            74  \n",
       "1                 69               90            88  \n",
       "2                 90               95            93  \n",
       "3                 47               57            44  \n",
       "4                 76               78            75  \n",
       "..               ...              ...           ...  \n",
       "995               88               99            95  \n",
       "996               62               55            55  \n",
       "997               59               71            65  \n",
       "998               68               78            77  \n",
       "999               77               86            86  \n",
       "\n",
       "[1000 rows x 8 columns]"
      ]
     },
     "execution_count": 3,
     "metadata": {},
     "output_type": "execute_result"
    }
   ],
   "source": [
    "df"
   ]
  },
  {
   "cell_type": "markdown",
   "id": "ff65e918",
   "metadata": {},
   "source": [
    "# 1) Qual a quantidade de linhas e colunas desse dataframe?"
   ]
  },
  {
   "cell_type": "code",
   "execution_count": 4,
   "id": "d7a4076f",
   "metadata": {},
   "outputs": [
    {
     "data": {
      "text/plain": [
       "(1000, 8)"
      ]
     },
     "execution_count": 4,
     "metadata": {},
     "output_type": "execute_result"
    }
   ],
   "source": [
    "# O dataframe possui 1000 linhas e 8 colunas\n",
    "df.shape"
   ]
  },
  {
   "cell_type": "markdown",
   "id": "566f0933",
   "metadata": {},
   "source": [
    "# 2) Quais os tipos das váriaveis desse dataframe?"
   ]
  },
  {
   "cell_type": "code",
   "execution_count": 5,
   "id": "a35b1ce0",
   "metadata": {},
   "outputs": [
    {
     "data": {
      "text/plain": [
       "genero                   object\n",
       "etnia                    object\n",
       "escolaridade dos pais    object\n",
       "almoco                   object\n",
       "simulado                 object\n",
       "nota matematica           int64\n",
       "nota literatura           int64\n",
       "nota redacao              int64\n",
       "dtype: object"
      ]
     },
     "execution_count": 5,
     "metadata": {},
     "output_type": "execute_result"
    }
   ],
   "source": [
    "df.dtypes"
   ]
  },
  {
   "cell_type": "markdown",
   "id": "95e483cf",
   "metadata": {},
   "source": [
    "# 3) Há valores nulos nesse dataframe?"
   ]
  },
  {
   "cell_type": "code",
   "execution_count": 6,
   "id": "bf405271",
   "metadata": {},
   "outputs": [
    {
     "name": "stdout",
     "output_type": "stream",
     "text": [
      "<class 'pandas.core.frame.DataFrame'>\n",
      "RangeIndex: 1000 entries, 0 to 999\n",
      "Data columns (total 8 columns):\n",
      " #   Column                 Non-Null Count  Dtype \n",
      "---  ------                 --------------  ----- \n",
      " 0   genero                 1000 non-null   object\n",
      " 1   etnia                  1000 non-null   object\n",
      " 2   escolaridade dos pais  1000 non-null   object\n",
      " 3   almoco                 1000 non-null   object\n",
      " 4   simulado               1000 non-null   object\n",
      " 5   nota matematica        1000 non-null   int64 \n",
      " 6   nota literatura        1000 non-null   int64 \n",
      " 7   nota redacao           1000 non-null   int64 \n",
      "dtypes: int64(3), object(5)\n",
      "memory usage: 62.6+ KB\n"
     ]
    }
   ],
   "source": [
    "#Não há valores nulos\n",
    "df.info()"
   ]
  },
  {
   "cell_type": "markdown",
   "id": "88068d0a",
   "metadata": {},
   "source": [
    "# 4) Crie um novo dataframe chamado \"df1\", esse dataframe deve possuir somente as colunas \"genero\" e \"almoco\""
   ]
  },
  {
   "cell_type": "code",
   "execution_count": 7,
   "id": "c99828f3",
   "metadata": {},
   "outputs": [],
   "source": [
    "df1 = df[['genero', 'almoco']]"
   ]
  },
  {
   "cell_type": "code",
   "execution_count": 8,
   "id": "3bc3c542",
   "metadata": {},
   "outputs": [
    {
     "data": {
      "text/html": [
       "<div>\n",
       "<style scoped>\n",
       "    .dataframe tbody tr th:only-of-type {\n",
       "        vertical-align: middle;\n",
       "    }\n",
       "\n",
       "    .dataframe tbody tr th {\n",
       "        vertical-align: top;\n",
       "    }\n",
       "\n",
       "    .dataframe thead th {\n",
       "        text-align: right;\n",
       "    }\n",
       "</style>\n",
       "<table border=\"1\" class=\"dataframe\">\n",
       "  <thead>\n",
       "    <tr style=\"text-align: right;\">\n",
       "      <th></th>\n",
       "      <th>genero</th>\n",
       "      <th>almoco</th>\n",
       "    </tr>\n",
       "  </thead>\n",
       "  <tbody>\n",
       "    <tr>\n",
       "      <th>0</th>\n",
       "      <td>female</td>\n",
       "      <td>standard</td>\n",
       "    </tr>\n",
       "    <tr>\n",
       "      <th>1</th>\n",
       "      <td>female</td>\n",
       "      <td>standard</td>\n",
       "    </tr>\n",
       "    <tr>\n",
       "      <th>2</th>\n",
       "      <td>female</td>\n",
       "      <td>standard</td>\n",
       "    </tr>\n",
       "    <tr>\n",
       "      <th>3</th>\n",
       "      <td>male</td>\n",
       "      <td>free/reduced</td>\n",
       "    </tr>\n",
       "    <tr>\n",
       "      <th>4</th>\n",
       "      <td>male</td>\n",
       "      <td>standard</td>\n",
       "    </tr>\n",
       "  </tbody>\n",
       "</table>\n",
       "</div>"
      ],
      "text/plain": [
       "   genero        almoco\n",
       "0  female      standard\n",
       "1  female      standard\n",
       "2  female      standard\n",
       "3    male  free/reduced\n",
       "4    male      standard"
      ]
     },
     "execution_count": 8,
     "metadata": {},
     "output_type": "execute_result"
    }
   ],
   "source": [
    "df1.head()"
   ]
  },
  {
   "cell_type": "markdown",
   "id": "9cdd640a",
   "metadata": {},
   "source": [
    "# 5) Ordene o dataset de forma crescente de acordo com a nota de redação"
   ]
  },
  {
   "cell_type": "code",
   "execution_count": 9,
   "id": "3d5638ed",
   "metadata": {},
   "outputs": [
    {
     "data": {
      "text/html": [
       "<div>\n",
       "<style scoped>\n",
       "    .dataframe tbody tr th:only-of-type {\n",
       "        vertical-align: middle;\n",
       "    }\n",
       "\n",
       "    .dataframe tbody tr th {\n",
       "        vertical-align: top;\n",
       "    }\n",
       "\n",
       "    .dataframe thead th {\n",
       "        text-align: right;\n",
       "    }\n",
       "</style>\n",
       "<table border=\"1\" class=\"dataframe\">\n",
       "  <thead>\n",
       "    <tr style=\"text-align: right;\">\n",
       "      <th></th>\n",
       "      <th>genero</th>\n",
       "      <th>etnia</th>\n",
       "      <th>escolaridade dos pais</th>\n",
       "      <th>almoco</th>\n",
       "      <th>simulado</th>\n",
       "      <th>nota matematica</th>\n",
       "      <th>nota literatura</th>\n",
       "      <th>nota redacao</th>\n",
       "    </tr>\n",
       "  </thead>\n",
       "  <tbody>\n",
       "    <tr>\n",
       "      <th>59</th>\n",
       "      <td>female</td>\n",
       "      <td>group C</td>\n",
       "      <td>some high school</td>\n",
       "      <td>free/reduced</td>\n",
       "      <td>none</td>\n",
       "      <td>0</td>\n",
       "      <td>17</td>\n",
       "      <td>10</td>\n",
       "    </tr>\n",
       "    <tr>\n",
       "      <th>596</th>\n",
       "      <td>male</td>\n",
       "      <td>group B</td>\n",
       "      <td>high school</td>\n",
       "      <td>free/reduced</td>\n",
       "      <td>none</td>\n",
       "      <td>30</td>\n",
       "      <td>24</td>\n",
       "      <td>15</td>\n",
       "    </tr>\n",
       "    <tr>\n",
       "      <th>327</th>\n",
       "      <td>male</td>\n",
       "      <td>group A</td>\n",
       "      <td>some college</td>\n",
       "      <td>free/reduced</td>\n",
       "      <td>none</td>\n",
       "      <td>28</td>\n",
       "      <td>23</td>\n",
       "      <td>19</td>\n",
       "    </tr>\n",
       "    <tr>\n",
       "      <th>76</th>\n",
       "      <td>male</td>\n",
       "      <td>group E</td>\n",
       "      <td>some high school</td>\n",
       "      <td>standard</td>\n",
       "      <td>none</td>\n",
       "      <td>30</td>\n",
       "      <td>26</td>\n",
       "      <td>22</td>\n",
       "    </tr>\n",
       "    <tr>\n",
       "      <th>980</th>\n",
       "      <td>female</td>\n",
       "      <td>group B</td>\n",
       "      <td>high school</td>\n",
       "      <td>free/reduced</td>\n",
       "      <td>none</td>\n",
       "      <td>8</td>\n",
       "      <td>24</td>\n",
       "      <td>23</td>\n",
       "    </tr>\n",
       "    <tr>\n",
       "      <th>...</th>\n",
       "      <td>...</td>\n",
       "      <td>...</td>\n",
       "      <td>...</td>\n",
       "      <td>...</td>\n",
       "      <td>...</td>\n",
       "      <td>...</td>\n",
       "      <td>...</td>\n",
       "      <td>...</td>\n",
       "    </tr>\n",
       "    <tr>\n",
       "      <th>970</th>\n",
       "      <td>female</td>\n",
       "      <td>group D</td>\n",
       "      <td>bachelor's degree</td>\n",
       "      <td>standard</td>\n",
       "      <td>none</td>\n",
       "      <td>89</td>\n",
       "      <td>100</td>\n",
       "      <td>100</td>\n",
       "    </tr>\n",
       "    <tr>\n",
       "      <th>106</th>\n",
       "      <td>female</td>\n",
       "      <td>group D</td>\n",
       "      <td>master's degree</td>\n",
       "      <td>standard</td>\n",
       "      <td>none</td>\n",
       "      <td>87</td>\n",
       "      <td>100</td>\n",
       "      <td>100</td>\n",
       "    </tr>\n",
       "    <tr>\n",
       "      <th>957</th>\n",
       "      <td>female</td>\n",
       "      <td>group D</td>\n",
       "      <td>master's degree</td>\n",
       "      <td>standard</td>\n",
       "      <td>none</td>\n",
       "      <td>92</td>\n",
       "      <td>100</td>\n",
       "      <td>100</td>\n",
       "    </tr>\n",
       "    <tr>\n",
       "      <th>916</th>\n",
       "      <td>male</td>\n",
       "      <td>group E</td>\n",
       "      <td>bachelor's degree</td>\n",
       "      <td>standard</td>\n",
       "      <td>completed</td>\n",
       "      <td>100</td>\n",
       "      <td>100</td>\n",
       "      <td>100</td>\n",
       "    </tr>\n",
       "    <tr>\n",
       "      <th>114</th>\n",
       "      <td>female</td>\n",
       "      <td>group E</td>\n",
       "      <td>bachelor's degree</td>\n",
       "      <td>standard</td>\n",
       "      <td>completed</td>\n",
       "      <td>99</td>\n",
       "      <td>100</td>\n",
       "      <td>100</td>\n",
       "    </tr>\n",
       "  </tbody>\n",
       "</table>\n",
       "<p>1000 rows × 8 columns</p>\n",
       "</div>"
      ],
      "text/plain": [
       "     genero    etnia escolaridade dos pais        almoco   simulado  \\\n",
       "59   female  group C      some high school  free/reduced       none   \n",
       "596    male  group B           high school  free/reduced       none   \n",
       "327    male  group A          some college  free/reduced       none   \n",
       "76     male  group E      some high school      standard       none   \n",
       "980  female  group B           high school  free/reduced       none   \n",
       "..      ...      ...                   ...           ...        ...   \n",
       "970  female  group D     bachelor's degree      standard       none   \n",
       "106  female  group D       master's degree      standard       none   \n",
       "957  female  group D       master's degree      standard       none   \n",
       "916    male  group E     bachelor's degree      standard  completed   \n",
       "114  female  group E     bachelor's degree      standard  completed   \n",
       "\n",
       "     nota matematica  nota literatura  nota redacao  \n",
       "59                 0               17            10  \n",
       "596               30               24            15  \n",
       "327               28               23            19  \n",
       "76                30               26            22  \n",
       "980                8               24            23  \n",
       "..               ...              ...           ...  \n",
       "970               89              100           100  \n",
       "106               87              100           100  \n",
       "957               92              100           100  \n",
       "916              100              100           100  \n",
       "114               99              100           100  \n",
       "\n",
       "[1000 rows x 8 columns]"
      ]
     },
     "execution_count": 9,
     "metadata": {},
     "output_type": "execute_result"
    }
   ],
   "source": [
    "df.sort_values('nota redacao', ascending = True)"
   ]
  },
  {
   "cell_type": "markdown",
   "id": "460d5f45",
   "metadata": {},
   "source": [
    "# 6) Qual é a maior nota em matemática? "
   ]
  },
  {
   "cell_type": "code",
   "execution_count": 10,
   "id": "5317ba35",
   "metadata": {},
   "outputs": [
    {
     "data": {
      "text/plain": [
       "100"
      ]
     },
     "execution_count": 10,
     "metadata": {},
     "output_type": "execute_result"
    }
   ],
   "source": [
    "#a maior nota em matemática é 100\n",
    "df['nota matematica'].max()"
   ]
  },
  {
   "cell_type": "markdown",
   "id": "8b13773b",
   "metadata": {},
   "source": [
    "# 7) Qual é a menor nota em literatura? "
   ]
  },
  {
   "cell_type": "code",
   "execution_count": 11,
   "id": "9ea4b547",
   "metadata": {},
   "outputs": [
    {
     "data": {
      "text/plain": [
       "17"
      ]
     },
     "execution_count": 11,
     "metadata": {},
     "output_type": "execute_result"
    }
   ],
   "source": [
    "# a menor nota em literatura é 17\n",
    "df['nota literatura'].min()"
   ]
  },
  {
   "cell_type": "markdown",
   "id": "6b8d7711",
   "metadata": {},
   "source": [
    "# 8) Qual é a soma de todas as notas em redacao?"
   ]
  },
  {
   "cell_type": "code",
   "execution_count": 12,
   "id": "a666800d",
   "metadata": {},
   "outputs": [
    {
     "data": {
      "text/plain": [
       "68054"
      ]
     },
     "execution_count": 12,
     "metadata": {},
     "output_type": "execute_result"
    }
   ],
   "source": [
    "# a soma das notas em literatura é 68054\n",
    "df['nota redacao'].sum()"
   ]
  },
  {
   "cell_type": "markdown",
   "id": "bc98def8",
   "metadata": {},
   "source": [
    "# 9) Qual é a nota em matemática do aluno de index 502?"
   ]
  },
  {
   "cell_type": "code",
   "execution_count": 13,
   "id": "3049fd01",
   "metadata": {},
   "outputs": [
    {
     "data": {
      "text/plain": [
       "63"
      ]
     },
     "execution_count": 13,
     "metadata": {},
     "output_type": "execute_result"
    }
   ],
   "source": [
    "# A nota é 63\n",
    "df.loc[502]['nota matematica']"
   ]
  },
  {
   "cell_type": "markdown",
   "id": "4d8a9ee7",
   "metadata": {},
   "source": [
    "# 10) Quantos grupos étnicos existem no dataframe?"
   ]
  },
  {
   "cell_type": "code",
   "execution_count": 14,
   "id": "2a3087ed",
   "metadata": {},
   "outputs": [
    {
     "data": {
      "text/plain": [
       "group C    319\n",
       "group D    262\n",
       "group B    190\n",
       "group E    140\n",
       "group A     89\n",
       "Name: etnia, dtype: int64"
      ]
     },
     "execution_count": 14,
     "metadata": {},
     "output_type": "execute_result"
    }
   ],
   "source": [
    "df.etnia.value_counts()"
   ]
  },
  {
   "cell_type": "code",
   "execution_count": 15,
   "id": "d5af0092",
   "metadata": {},
   "outputs": [
    {
     "data": {
      "text/plain": [
       "5"
      ]
     },
     "execution_count": 15,
     "metadata": {},
     "output_type": "execute_result"
    }
   ],
   "source": [
    "# 5 grupos\n",
    "df.etnia.value_counts().count()"
   ]
  },
  {
   "cell_type": "markdown",
   "id": "f4b315b8",
   "metadata": {},
   "source": [
    "# 11) Dentro da coluna etnia, qual é o grupo que possui a maior quantidade de pessoas?"
   ]
  },
  {
   "cell_type": "code",
   "execution_count": 16,
   "id": "606bf369",
   "metadata": {},
   "outputs": [
    {
     "data": {
      "text/plain": [
       "group C    319\n",
       "group D    262\n",
       "group B    190\n",
       "group E    140\n",
       "group A     89\n",
       "Name: etnia, dtype: int64"
      ]
     },
     "execution_count": 16,
     "metadata": {},
     "output_type": "execute_result"
    }
   ],
   "source": [
    "df.etnia.value_counts()"
   ]
  },
  {
   "cell_type": "code",
   "execution_count": 17,
   "id": "3d2de7c2",
   "metadata": {},
   "outputs": [
    {
     "data": {
      "text/plain": [
       "'group C'"
      ]
     },
     "execution_count": 17,
     "metadata": {},
     "output_type": "execute_result"
    }
   ],
   "source": [
    "#Grupo C\n",
    "df['etnia'].value_counts().idxmax()"
   ]
  },
  {
   "cell_type": "markdown",
   "id": "c877ce8f",
   "metadata": {},
   "source": [
    "# 12) Qual é o index da aluna que tirou a menor nota em literatura? "
   ]
  },
  {
   "cell_type": "code",
   "execution_count": 18,
   "id": "e32d91dc",
   "metadata": {},
   "outputs": [],
   "source": [
    "#df['nota literatura'].idxmin()"
   ]
  },
  {
   "cell_type": "code",
   "execution_count": 19,
   "id": "7d4d3140",
   "metadata": {},
   "outputs": [],
   "source": [
    "mask = df['nota literatura'] == df['nota literatura'].min()"
   ]
  },
  {
   "cell_type": "code",
   "execution_count": 20,
   "id": "26f81aa2",
   "metadata": {},
   "outputs": [
    {
     "data": {
      "text/html": [
       "<div>\n",
       "<style scoped>\n",
       "    .dataframe tbody tr th:only-of-type {\n",
       "        vertical-align: middle;\n",
       "    }\n",
       "\n",
       "    .dataframe tbody tr th {\n",
       "        vertical-align: top;\n",
       "    }\n",
       "\n",
       "    .dataframe thead th {\n",
       "        text-align: right;\n",
       "    }\n",
       "</style>\n",
       "<table border=\"1\" class=\"dataframe\">\n",
       "  <thead>\n",
       "    <tr style=\"text-align: right;\">\n",
       "      <th></th>\n",
       "      <th>genero</th>\n",
       "      <th>etnia</th>\n",
       "      <th>escolaridade dos pais</th>\n",
       "      <th>almoco</th>\n",
       "      <th>simulado</th>\n",
       "      <th>nota matematica</th>\n",
       "      <th>nota literatura</th>\n",
       "      <th>nota redacao</th>\n",
       "    </tr>\n",
       "  </thead>\n",
       "  <tbody>\n",
       "    <tr>\n",
       "      <th>59</th>\n",
       "      <td>female</td>\n",
       "      <td>group C</td>\n",
       "      <td>some high school</td>\n",
       "      <td>free/reduced</td>\n",
       "      <td>none</td>\n",
       "      <td>0</td>\n",
       "      <td>17</td>\n",
       "      <td>10</td>\n",
       "    </tr>\n",
       "  </tbody>\n",
       "</table>\n",
       "</div>"
      ],
      "text/plain": [
       "    genero    etnia escolaridade dos pais        almoco simulado  \\\n",
       "59  female  group C      some high school  free/reduced     none   \n",
       "\n",
       "    nota matematica  nota literatura  nota redacao  \n",
       "59                0               17            10  "
      ]
     },
     "execution_count": 20,
     "metadata": {},
     "output_type": "execute_result"
    }
   ],
   "source": [
    "df[mask]"
   ]
  },
  {
   "cell_type": "code",
   "execution_count": 21,
   "id": "d7f9152b",
   "metadata": {},
   "outputs": [
    {
     "data": {
      "text/plain": [
       "59"
      ]
     },
     "execution_count": 21,
     "metadata": {},
     "output_type": "execute_result"
    }
   ],
   "source": [
    "# O index desse aluno é o 59\n",
    "df[mask].index[0]"
   ]
  },
  {
   "cell_type": "markdown",
   "id": "dde12c51",
   "metadata": {},
   "source": [
    "# 13) Qual é a escolaridade mais comum entre os pais dos alunos?"
   ]
  },
  {
   "cell_type": "code",
   "execution_count": 22,
   "id": "1b3ff57f",
   "metadata": {},
   "outputs": [
    {
     "data": {
      "text/plain": [
       "some college          226\n",
       "associate's degree    222\n",
       "high school           196\n",
       "some high school      179\n",
       "bachelor's degree     118\n",
       "master's degree        59\n",
       "Name: escolaridade dos pais, dtype: int64"
      ]
     },
     "execution_count": 22,
     "metadata": {},
     "output_type": "execute_result"
    }
   ],
   "source": [
    "df['escolaridade dos pais'].value_counts()"
   ]
  },
  {
   "cell_type": "code",
   "execution_count": 23,
   "id": "4914beb0",
   "metadata": {},
   "outputs": [
    {
     "data": {
      "text/plain": [
       "'some college'"
      ]
     },
     "execution_count": 23,
     "metadata": {},
     "output_type": "execute_result"
    }
   ],
   "source": [
    "# A escolaridade mais comum é \"some college\"\n",
    "df['escolaridade dos pais'].value_counts().idxmax()"
   ]
  },
  {
   "cell_type": "markdown",
   "id": "3cce1170",
   "metadata": {},
   "source": [
    "# 14) Printe a correlação entre as variáveise identifique  a variável que tem a maior correlação positiva com as notas em redação"
   ]
  },
  {
   "cell_type": "code",
   "execution_count": 24,
   "id": "3568a8c6",
   "metadata": {},
   "outputs": [
    {
     "data": {
      "text/html": [
       "<div>\n",
       "<style scoped>\n",
       "    .dataframe tbody tr th:only-of-type {\n",
       "        vertical-align: middle;\n",
       "    }\n",
       "\n",
       "    .dataframe tbody tr th {\n",
       "        vertical-align: top;\n",
       "    }\n",
       "\n",
       "    .dataframe thead th {\n",
       "        text-align: right;\n",
       "    }\n",
       "</style>\n",
       "<table border=\"1\" class=\"dataframe\">\n",
       "  <thead>\n",
       "    <tr style=\"text-align: right;\">\n",
       "      <th></th>\n",
       "      <th>nota matematica</th>\n",
       "      <th>nota literatura</th>\n",
       "      <th>nota redacao</th>\n",
       "    </tr>\n",
       "  </thead>\n",
       "  <tbody>\n",
       "    <tr>\n",
       "      <th>nota matematica</th>\n",
       "      <td>1.000000</td>\n",
       "      <td>0.817580</td>\n",
       "      <td>0.802642</td>\n",
       "    </tr>\n",
       "    <tr>\n",
       "      <th>nota literatura</th>\n",
       "      <td>0.817580</td>\n",
       "      <td>1.000000</td>\n",
       "      <td>0.954598</td>\n",
       "    </tr>\n",
       "    <tr>\n",
       "      <th>nota redacao</th>\n",
       "      <td>0.802642</td>\n",
       "      <td>0.954598</td>\n",
       "      <td>1.000000</td>\n",
       "    </tr>\n",
       "  </tbody>\n",
       "</table>\n",
       "</div>"
      ],
      "text/plain": [
       "                 nota matematica  nota literatura  nota redacao\n",
       "nota matematica         1.000000         0.817580      0.802642\n",
       "nota literatura         0.817580         1.000000      0.954598\n",
       "nota redacao            0.802642         0.954598      1.000000"
      ]
     },
     "execution_count": 24,
     "metadata": {},
     "output_type": "execute_result"
    }
   ],
   "source": [
    "#A variável com a maior correlação positiva com as notas em redação são as notas em literatura \n",
    "df_corr = df.corr(method = 'pearson')\n",
    "df_corr"
   ]
  },
  {
   "cell_type": "markdown",
   "id": "314678d8",
   "metadata": {},
   "source": [
    "# 15) Realize um groupby e agrupe a coluna \"escolaridade dos pais\". Após agrupado, verifique qual é a maior nota média em matemática dentre os grupos."
   ]
  },
  {
   "cell_type": "code",
   "execution_count": 41,
   "id": "6db64ede",
   "metadata": {},
   "outputs": [],
   "source": [
    "df_group = df.groupby('escolaridade dos pais').mean()"
   ]
  },
  {
   "cell_type": "code",
   "execution_count": 48,
   "id": "fa3279f2",
   "metadata": {},
   "outputs": [
    {
     "data": {
      "text/html": [
       "<div>\n",
       "<style scoped>\n",
       "    .dataframe tbody tr th:only-of-type {\n",
       "        vertical-align: middle;\n",
       "    }\n",
       "\n",
       "    .dataframe tbody tr th {\n",
       "        vertical-align: top;\n",
       "    }\n",
       "\n",
       "    .dataframe thead th {\n",
       "        text-align: right;\n",
       "    }\n",
       "</style>\n",
       "<table border=\"1\" class=\"dataframe\">\n",
       "  <thead>\n",
       "    <tr style=\"text-align: right;\">\n",
       "      <th></th>\n",
       "      <th>nota matematica</th>\n",
       "      <th>nota literatura</th>\n",
       "      <th>nota redacao</th>\n",
       "      <th>media geral</th>\n",
       "    </tr>\n",
       "    <tr>\n",
       "      <th>escolaridade dos pais</th>\n",
       "      <th></th>\n",
       "      <th></th>\n",
       "      <th></th>\n",
       "      <th></th>\n",
       "    </tr>\n",
       "  </thead>\n",
       "  <tbody>\n",
       "    <tr>\n",
       "      <th>associate's degree</th>\n",
       "      <td>67.882883</td>\n",
       "      <td>70.927928</td>\n",
       "      <td>69.896396</td>\n",
       "      <td>73.094595</td>\n",
       "    </tr>\n",
       "    <tr>\n",
       "      <th>bachelor's degree</th>\n",
       "      <td>69.389831</td>\n",
       "      <td>73.000000</td>\n",
       "      <td>73.381356</td>\n",
       "      <td>75.372881</td>\n",
       "    </tr>\n",
       "    <tr>\n",
       "      <th>high school</th>\n",
       "      <td>62.137755</td>\n",
       "      <td>64.704082</td>\n",
       "      <td>62.448980</td>\n",
       "      <td>65.948980</td>\n",
       "    </tr>\n",
       "    <tr>\n",
       "      <th>master's degree</th>\n",
       "      <td>69.745763</td>\n",
       "      <td>75.372881</td>\n",
       "      <td>75.677966</td>\n",
       "      <td>76.711864</td>\n",
       "    </tr>\n",
       "    <tr>\n",
       "      <th>some college</th>\n",
       "      <td>67.128319</td>\n",
       "      <td>69.460177</td>\n",
       "      <td>68.840708</td>\n",
       "      <td>71.747788</td>\n",
       "    </tr>\n",
       "    <tr>\n",
       "      <th>some high school</th>\n",
       "      <td>63.497207</td>\n",
       "      <td>66.938547</td>\n",
       "      <td>64.888268</td>\n",
       "      <td>69.290503</td>\n",
       "    </tr>\n",
       "  </tbody>\n",
       "</table>\n",
       "</div>"
      ],
      "text/plain": [
       "                       nota matematica  nota literatura  nota redacao  \\\n",
       "escolaridade dos pais                                                   \n",
       "associate's degree           67.882883        70.927928     69.896396   \n",
       "bachelor's degree            69.389831        73.000000     73.381356   \n",
       "high school                  62.137755        64.704082     62.448980   \n",
       "master's degree              69.745763        75.372881     75.677966   \n",
       "some college                 67.128319        69.460177     68.840708   \n",
       "some high school             63.497207        66.938547     64.888268   \n",
       "\n",
       "                       media geral  \n",
       "escolaridade dos pais               \n",
       "associate's degree       73.094595  \n",
       "bachelor's degree        75.372881  \n",
       "high school              65.948980  \n",
       "master's degree          76.711864  \n",
       "some college             71.747788  \n",
       "some high school         69.290503  "
      ]
     },
     "execution_count": 48,
     "metadata": {},
     "output_type": "execute_result"
    }
   ],
   "source": [
    "df_group"
   ]
  },
  {
   "cell_type": "code",
   "execution_count": 47,
   "id": "7e14874e",
   "metadata": {},
   "outputs": [
    {
     "data": {
      "text/plain": [
       "\"master's degree\""
      ]
     },
     "execution_count": 47,
     "metadata": {},
     "output_type": "execute_result"
    }
   ],
   "source": [
    "df_group['nota matematica'].idxmax()"
   ]
  },
  {
   "cell_type": "markdown",
   "id": "06e81b79",
   "metadata": {},
   "source": [
    "# 16) Plote um gráfico de barras que compara a média da nota em literatura de pessoas que tem almoço standard com as que tem almoço free/reduced"
   ]
  },
  {
   "cell_type": "code",
   "execution_count": 26,
   "id": "b612e5a5",
   "metadata": {},
   "outputs": [
    {
     "data": {
      "text/plain": [
       "<AxesSubplot:xlabel='almoco', ylabel='nota literatura'>"
      ]
     },
     "execution_count": 26,
     "metadata": {},
     "output_type": "execute_result"
    },
    {
     "data": {
      "image/png": "[encoded data removed]",
      "text/plain": [
       "<Figure size 640x480 with 1 Axes>"
      ]
     },
     "metadata": {},
     "output_type": "display_data"
    }
   ],
   "source": [
    "sns.barplot(data=df, x=\"almoco\", y=\"nota literatura\")"
   ]
  },
  {
   "cell_type": "markdown",
   "id": "7337b18f",
   "metadata": {},
   "source": [
    "# 17) Crie uma nova coluna chamada \"media geral\", ela deve ser uma média das notas de matemática, literatura e redação."
   ]
  },
  {
   "cell_type": "code",
   "execution_count": 27,
   "id": "d1e30145",
   "metadata": {},
   "outputs": [],
   "source": [
    "#df['media geral'] = (df['nota matematica'] + df['nota literatura'] + df['nota redacao']) / 3"
   ]
  },
  {
   "cell_type": "code",
   "execution_count": 28,
   "id": "d6f05163",
   "metadata": {},
   "outputs": [],
   "source": [
    "#transformando as colunas de notas em listas\n",
    "lista_mat = df['nota matematica'].to_list()\n",
    "lista_red = df['nota redacao'].to_list()\n",
    "lista_lit = df['nota literatura'].to_list()"
   ]
  },
  {
   "cell_type": "code",
   "execution_count": 29,
   "id": "dc77ccbe",
   "metadata": {},
   "outputs": [],
   "source": [
    "#Criando nova lista com a média de cada aluna\n",
    "\n",
    "#Criando uma lista vazia para armazenar a média\n",
    "lista_media = []\n",
    "\n",
    "#Criando um loop entre as 3 listas\n",
    "for i,j,k in zip(lista_mat, lista_red, lista_lit):\n",
    "    \n",
    "    #Somando as 3 notas e divindo por 3\n",
    "    media = round((i+j+k)/3)\n",
    "    \n",
    "    #Adicionando a nova nota media a lista \"lista_media\"\n",
    "    lista_media.append(media)"
   ]
  },
  {
   "cell_type": "code",
   "execution_count": 30,
   "id": "abd862d5",
   "metadata": {},
   "outputs": [],
   "source": [
    "#criando uma nova coluna com a lista_media\n",
    "df['media geral'] = lista_media"
   ]
  },
  {
   "cell_type": "code",
   "execution_count": 31,
   "id": "9b48c968",
   "metadata": {},
   "outputs": [
    {
     "data": {
      "text/html": [
       "<div>\n",
       "<style scoped>\n",
       "    .dataframe tbody tr th:only-of-type {\n",
       "        vertical-align: middle;\n",
       "    }\n",
       "\n",
       "    .dataframe tbody tr th {\n",
       "        vertical-align: top;\n",
       "    }\n",
       "\n",
       "    .dataframe thead th {\n",
       "        text-align: right;\n",
       "    }\n",
       "</style>\n",
       "<table border=\"1\" class=\"dataframe\">\n",
       "  <thead>\n",
       "    <tr style=\"text-align: right;\">\n",
       "      <th></th>\n",
       "      <th>genero</th>\n",
       "      <th>etnia</th>\n",
       "      <th>escolaridade dos pais</th>\n",
       "      <th>almoco</th>\n",
       "      <th>simulado</th>\n",
       "      <th>nota matematica</th>\n",
       "      <th>nota literatura</th>\n",
       "      <th>nota redacao</th>\n",
       "      <th>media geral</th>\n",
       "    </tr>\n",
       "  </thead>\n",
       "  <tbody>\n",
       "    <tr>\n",
       "      <th>0</th>\n",
       "      <td>female</td>\n",
       "      <td>group B</td>\n",
       "      <td>bachelor's degree</td>\n",
       "      <td>standard</td>\n",
       "      <td>none</td>\n",
       "      <td>72</td>\n",
       "      <td>72</td>\n",
       "      <td>74</td>\n",
       "      <td>73</td>\n",
       "    </tr>\n",
       "    <tr>\n",
       "      <th>1</th>\n",
       "      <td>female</td>\n",
       "      <td>group C</td>\n",
       "      <td>some college</td>\n",
       "      <td>standard</td>\n",
       "      <td>completed</td>\n",
       "      <td>69</td>\n",
       "      <td>90</td>\n",
       "      <td>88</td>\n",
       "      <td>82</td>\n",
       "    </tr>\n",
       "    <tr>\n",
       "      <th>2</th>\n",
       "      <td>female</td>\n",
       "      <td>group B</td>\n",
       "      <td>master's degree</td>\n",
       "      <td>standard</td>\n",
       "      <td>none</td>\n",
       "      <td>90</td>\n",
       "      <td>95</td>\n",
       "      <td>93</td>\n",
       "      <td>93</td>\n",
       "    </tr>\n",
       "    <tr>\n",
       "      <th>3</th>\n",
       "      <td>male</td>\n",
       "      <td>group A</td>\n",
       "      <td>associate's degree</td>\n",
       "      <td>free/reduced</td>\n",
       "      <td>none</td>\n",
       "      <td>47</td>\n",
       "      <td>57</td>\n",
       "      <td>44</td>\n",
       "      <td>49</td>\n",
       "    </tr>\n",
       "    <tr>\n",
       "      <th>4</th>\n",
       "      <td>male</td>\n",
       "      <td>group C</td>\n",
       "      <td>some college</td>\n",
       "      <td>standard</td>\n",
       "      <td>none</td>\n",
       "      <td>76</td>\n",
       "      <td>78</td>\n",
       "      <td>75</td>\n",
       "      <td>76</td>\n",
       "    </tr>\n",
       "  </tbody>\n",
       "</table>\n",
       "</div>"
      ],
      "text/plain": [
       "   genero    etnia escolaridade dos pais        almoco   simulado  \\\n",
       "0  female  group B     bachelor's degree      standard       none   \n",
       "1  female  group C          some college      standard  completed   \n",
       "2  female  group B       master's degree      standard       none   \n",
       "3    male  group A    associate's degree  free/reduced       none   \n",
       "4    male  group C          some college      standard       none   \n",
       "\n",
       "   nota matematica  nota literatura  nota redacao  media geral  \n",
       "0               72               72            74           73  \n",
       "1               69               90            88           82  \n",
       "2               90               95            93           93  \n",
       "3               47               57            44           49  \n",
       "4               76               78            75           76  "
      ]
     },
     "execution_count": 31,
     "metadata": {},
     "output_type": "execute_result"
    }
   ],
   "source": [
    "df.head()"
   ]
  },
  {
   "cell_type": "markdown",
   "id": "74a62644",
   "metadata": {},
   "source": [
    "# 18) Plote um histograma com as notas da media geral"
   ]
  },
  {
   "cell_type": "code",
   "execution_count": 32,
   "id": "0f6ac2d0",
   "metadata": {},
   "outputs": [
    {
     "data": {
      "text/plain": [
       "array([[<AxesSubplot:title={'center':'media geral'}>]], dtype=object)"
      ]
     },
     "execution_count": 32,
     "metadata": {},
     "output_type": "execute_result"
    },
    {
     "data": {
      "image/png": "[encoded data removed]",
      "text/plain": [
       "<Figure size 640x480 with 1 Axes>"
      ]
     },
     "metadata": {},
     "output_type": "display_data"
    }
   ],
   "source": [
    "df.hist('media geral')"
   ]
  },
  {
   "cell_type": "markdown",
   "id": "0927b985",
   "metadata": {},
   "source": [
    "# 19) Verifique qual é a média geral de pessoas que completaram o simulado e compare com a média geral de pessoas que não completaram o simulado."
   ]
  },
  {
   "cell_type": "code",
   "execution_count": 33,
   "id": "b30a1d82",
   "metadata": {},
   "outputs": [
    {
     "data": {
      "text/plain": [
       "72.67039106145252"
      ]
     },
     "execution_count": 33,
     "metadata": {},
     "output_type": "execute_result"
    }
   ],
   "source": [
    "#A media geral das alunas que completarm o simulado é de 72\n",
    "mask_completaram = df['simulado'] == 'completed'\n",
    "df_completaram = df[mask_completaram]\n",
    "df_completaram['media geral'].mean()"
   ]
  },
  {
   "cell_type": "code",
   "execution_count": 34,
   "id": "31c2c2c9",
   "metadata": {},
   "outputs": [
    {
     "data": {
      "text/plain": [
       "65.02492211838006"
      ]
     },
     "execution_count": 34,
     "metadata": {},
     "output_type": "execute_result"
    }
   ],
   "source": [
    "#A media geral das alunas que não completarm o simulado é de 65\n",
    "mask_nao_completaram = df['simulado'] == 'none'\n",
    "df_nao_completaram = df[mask_nao_completaram]\n",
    "df_nao_completaram['media geral'].mean()"
   ]
  },
  {
   "cell_type": "markdown",
   "id": "f105ad48",
   "metadata": {},
   "source": [
    "# 20) O diretor da escola decidiu dar 10 pontos na média geral para pessoas que completaram o simulado. Crie um código que faça essa operação de forma que nenhuma pessoa exceda os 100 pontos."
   ]
  },
  {
   "cell_type": "code",
   "execution_count": 35,
   "id": "0bf02255",
   "metadata": {},
   "outputs": [
    {
     "data": {
      "text/html": [
       "<div>\n",
       "<style scoped>\n",
       "    .dataframe tbody tr th:only-of-type {\n",
       "        vertical-align: middle;\n",
       "    }\n",
       "\n",
       "    .dataframe tbody tr th {\n",
       "        vertical-align: top;\n",
       "    }\n",
       "\n",
       "    .dataframe thead th {\n",
       "        text-align: right;\n",
       "    }\n",
       "</style>\n",
       "<table border=\"1\" class=\"dataframe\">\n",
       "  <thead>\n",
       "    <tr style=\"text-align: right;\">\n",
       "      <th></th>\n",
       "      <th>genero</th>\n",
       "      <th>etnia</th>\n",
       "      <th>escolaridade dos pais</th>\n",
       "      <th>almoco</th>\n",
       "      <th>simulado</th>\n",
       "      <th>nota matematica</th>\n",
       "      <th>nota literatura</th>\n",
       "      <th>nota redacao</th>\n",
       "      <th>media geral</th>\n",
       "    </tr>\n",
       "  </thead>\n",
       "  <tbody>\n",
       "    <tr>\n",
       "      <th>0</th>\n",
       "      <td>female</td>\n",
       "      <td>group B</td>\n",
       "      <td>bachelor's degree</td>\n",
       "      <td>standard</td>\n",
       "      <td>none</td>\n",
       "      <td>72</td>\n",
       "      <td>72</td>\n",
       "      <td>74</td>\n",
       "      <td>73</td>\n",
       "    </tr>\n",
       "    <tr>\n",
       "      <th>1</th>\n",
       "      <td>female</td>\n",
       "      <td>group C</td>\n",
       "      <td>some college</td>\n",
       "      <td>standard</td>\n",
       "      <td>completed</td>\n",
       "      <td>69</td>\n",
       "      <td>90</td>\n",
       "      <td>88</td>\n",
       "      <td>82</td>\n",
       "    </tr>\n",
       "    <tr>\n",
       "      <th>2</th>\n",
       "      <td>female</td>\n",
       "      <td>group B</td>\n",
       "      <td>master's degree</td>\n",
       "      <td>standard</td>\n",
       "      <td>none</td>\n",
       "      <td>90</td>\n",
       "      <td>95</td>\n",
       "      <td>93</td>\n",
       "      <td>93</td>\n",
       "    </tr>\n",
       "    <tr>\n",
       "      <th>3</th>\n",
       "      <td>male</td>\n",
       "      <td>group A</td>\n",
       "      <td>associate's degree</td>\n",
       "      <td>free/reduced</td>\n",
       "      <td>none</td>\n",
       "      <td>47</td>\n",
       "      <td>57</td>\n",
       "      <td>44</td>\n",
       "      <td>49</td>\n",
       "    </tr>\n",
       "    <tr>\n",
       "      <th>4</th>\n",
       "      <td>male</td>\n",
       "      <td>group C</td>\n",
       "      <td>some college</td>\n",
       "      <td>standard</td>\n",
       "      <td>none</td>\n",
       "      <td>76</td>\n",
       "      <td>78</td>\n",
       "      <td>75</td>\n",
       "      <td>76</td>\n",
       "    </tr>\n",
       "  </tbody>\n",
       "</table>\n",
       "</div>"
      ],
      "text/plain": [
       "   genero    etnia escolaridade dos pais        almoco   simulado  \\\n",
       "0  female  group B     bachelor's degree      standard       none   \n",
       "1  female  group C          some college      standard  completed   \n",
       "2  female  group B       master's degree      standard       none   \n",
       "3    male  group A    associate's degree  free/reduced       none   \n",
       "4    male  group C          some college      standard       none   \n",
       "\n",
       "   nota matematica  nota literatura  nota redacao  media geral  \n",
       "0               72               72            74           73  \n",
       "1               69               90            88           82  \n",
       "2               90               95            93           93  \n",
       "3               47               57            44           49  \n",
       "4               76               78            75           76  "
      ]
     },
     "execution_count": 35,
     "metadata": {},
     "output_type": "execute_result"
    }
   ],
   "source": [
    "df.head()"
   ]
  },
  {
   "cell_type": "code",
   "execution_count": 36,
   "id": "2bd66849",
   "metadata": {},
   "outputs": [],
   "source": [
    "#Criando um loop para realizar a operação\n",
    "for i in range(len(df)):\n",
    "    \n",
    "    #Buscando por pessoas que completaram o simulado\n",
    "    if df.simulado[i] == 'completed':\n",
    "        \n",
    "        # Verificando se a nota dessa pessoa é menor que 91\n",
    "        if df['media geral'][i] < 91:\n",
    "            #caso sim, a pessoa ganha 10 pontos\n",
    "            df.at[i, 'media geral'] += 10\n",
    "            \n",
    "        #Caso não, a pessoa vai automaticamente para 100 pontos    \n",
    "        else:\n",
    "            df.at[i, 'media geral'] = 100"
   ]
  },
  {
   "cell_type": "code",
   "execution_count": 37,
   "id": "4092ddc7",
   "metadata": {},
   "outputs": [
    {
     "data": {
      "text/html": [
       "<div>\n",
       "<style scoped>\n",
       "    .dataframe tbody tr th:only-of-type {\n",
       "        vertical-align: middle;\n",
       "    }\n",
       "\n",
       "    .dataframe tbody tr th {\n",
       "        vertical-align: top;\n",
       "    }\n",
       "\n",
       "    .dataframe thead th {\n",
       "        text-align: right;\n",
       "    }\n",
       "</style>\n",
       "<table border=\"1\" class=\"dataframe\">\n",
       "  <thead>\n",
       "    <tr style=\"text-align: right;\">\n",
       "      <th></th>\n",
       "      <th>genero</th>\n",
       "      <th>etnia</th>\n",
       "      <th>escolaridade dos pais</th>\n",
       "      <th>almoco</th>\n",
       "      <th>simulado</th>\n",
       "      <th>nota matematica</th>\n",
       "      <th>nota literatura</th>\n",
       "      <th>nota redacao</th>\n",
       "      <th>media geral</th>\n",
       "    </tr>\n",
       "  </thead>\n",
       "  <tbody>\n",
       "    <tr>\n",
       "      <th>0</th>\n",
       "      <td>female</td>\n",
       "      <td>group B</td>\n",
       "      <td>bachelor's degree</td>\n",
       "      <td>standard</td>\n",
       "      <td>none</td>\n",
       "      <td>72</td>\n",
       "      <td>72</td>\n",
       "      <td>74</td>\n",
       "      <td>73</td>\n",
       "    </tr>\n",
       "    <tr>\n",
       "      <th>1</th>\n",
       "      <td>female</td>\n",
       "      <td>group C</td>\n",
       "      <td>some college</td>\n",
       "      <td>standard</td>\n",
       "      <td>completed</td>\n",
       "      <td>69</td>\n",
       "      <td>90</td>\n",
       "      <td>88</td>\n",
       "      <td>92</td>\n",
       "    </tr>\n",
       "    <tr>\n",
       "      <th>2</th>\n",
       "      <td>female</td>\n",
       "      <td>group B</td>\n",
       "      <td>master's degree</td>\n",
       "      <td>standard</td>\n",
       "      <td>none</td>\n",
       "      <td>90</td>\n",
       "      <td>95</td>\n",
       "      <td>93</td>\n",
       "      <td>93</td>\n",
       "    </tr>\n",
       "    <tr>\n",
       "      <th>3</th>\n",
       "      <td>male</td>\n",
       "      <td>group A</td>\n",
       "      <td>associate's degree</td>\n",
       "      <td>free/reduced</td>\n",
       "      <td>none</td>\n",
       "      <td>47</td>\n",
       "      <td>57</td>\n",
       "      <td>44</td>\n",
       "      <td>49</td>\n",
       "    </tr>\n",
       "    <tr>\n",
       "      <th>4</th>\n",
       "      <td>male</td>\n",
       "      <td>group C</td>\n",
       "      <td>some college</td>\n",
       "      <td>standard</td>\n",
       "      <td>none</td>\n",
       "      <td>76</td>\n",
       "      <td>78</td>\n",
       "      <td>75</td>\n",
       "      <td>76</td>\n",
       "    </tr>\n",
       "  </tbody>\n",
       "</table>\n",
       "</div>"
      ],
      "text/plain": [
       "   genero    etnia escolaridade dos pais        almoco   simulado  \\\n",
       "0  female  group B     bachelor's degree      standard       none   \n",
       "1  female  group C          some college      standard  completed   \n",
       "2  female  group B       master's degree      standard       none   \n",
       "3    male  group A    associate's degree  free/reduced       none   \n",
       "4    male  group C          some college      standard       none   \n",
       "\n",
       "   nota matematica  nota literatura  nota redacao  media geral  \n",
       "0               72               72            74           73  \n",
       "1               69               90            88           92  \n",
       "2               90               95            93           93  \n",
       "3               47               57            44           49  \n",
       "4               76               78            75           76  "
      ]
     },
     "execution_count": 37,
     "metadata": {},
     "output_type": "execute_result"
    }
   ],
   "source": [
    "df.head()"
   ]
  },
  {
   "cell_type": "code",
   "execution_count": null,
   "id": "32e0a585",
   "metadata": {},
   "outputs": [],
   "source": []
  }
 ],
 "metadata": {
  "kernelspec": {
   "display_name": "Python 3 (ipykernel)",
   "language": "python",
   "name": "python3"
  },
  "language_info": {
   "codemirror_mode": {
    "name": "ipython",
    "version": 3
   },
   "file_extension": ".py",
   "mimetype": "text/x-python",
   "name": "python",
   "nbconvert_exporter": "python",
   "pygments_lexer": "ipython3",
   "version": "3.9.13"
  }
 },
 "nbformat": 4,
 "nbformat_minor": 5
}
